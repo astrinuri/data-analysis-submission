{
  "cells": [
    {
      "cell_type": "markdown",
      "metadata": {
        "id": "H9wADwK78DCz"
      },
      "source": [
        "# Proyek Analisis Data: Bike Sharing Dataset\n",
        "- **Nama:** Astri Nur Innayah\n",
        "- **Email:** a406xbm074@devacademy.id\n",
        "- **ID Dicoding:** a_astriii"
      ]
    },
    {
      "cell_type": "markdown",
      "metadata": {
        "id": "eE0raob58DC0"
      },
      "source": [
        "## Menentukan Pertanyaan Bisnis"
      ]
    },
    {
      "cell_type": "markdown",
      "metadata": {
        "id": "GmQeQ5YF8DC0"
      },
      "source": [
        "- Pertanyaan 1 : Bagaimana pola penyewaan sepeda berdasarkan hari dalam seminggu?\n",
        "\n",
        "- Pertanyaan 2 : Kapan waktu puncak penyewaan sepeda dalam sehari?\n",
        "\n",
        "- Pertanyaan 3 : Bagaimana pengaruh kecepatan angin terhadap penyewaan sepeda?\n",
        "\n",
        "- Pertanyaan 4: Bagaimana tren penyewaan sepeda berdasarkan musim?\n",
        "\n",
        "- Pertanyaan 5 : Bagaimana distribusi penyewaan sepeda di berbagai kategori (sangat rendah, rendah, sedang, tinggi, sangat tinggi)?\n"
      ]
    },
    {
      "cell_type": "markdown",
      "metadata": {
        "id": "H-z4QGlO8DC1"
      },
      "source": [
        "## Import Semua Packages/Library yang Digunakan"
      ]
    },
    {
      "cell_type": "code",
      "execution_count": null,
      "metadata": {
        "id": "FVYwaObI8DC1"
      },
      "outputs": [],
      "source": [
        "#Pada bagian ini memanggil semua library yang dibutuhkan\n",
        "\n",
        "import pandas as pd\n",
        "import numpy as np\n",
        "import matplotlib.pyplot as plt\n",
        "import seaborn as sns\n",
        "import gdown"
      ]
    },
    {
      "cell_type": "markdown",
      "metadata": {
        "id": "h_Sh51Xy8DC1"
      },
      "source": [
        "## Data Wrangling"
      ]
    },
    {
      "cell_type": "markdown",
      "metadata": {
        "id": "sXU2GBYu8DC1"
      },
      "source": [
        "### Gathering Data"
      ]
    },
    {
      "cell_type": "code",
      "execution_count": null,
      "metadata": {
        "id": "zjCBk1BI8DC1",
        "colab": {
          "base_uri": "https://localhost:8080/",
          "height": 123
        },
        "outputId": "f6bd1905-d027-40d4-cfed-acd50c62b52c"
      },
      "outputs": [
        {
          "output_type": "stream",
          "name": "stderr",
          "text": [
            "Downloading...\n",
            "From (original): https://drive.google.com/uc?id=13Q0_6-VtReE__4GHiR1-Vmv1JLcmAMaB-FukayFLtk8\n",
            "From (redirected): https://docs.google.com/spreadsheets/d/13Q0_6-VtReE__4GHiR1-Vmv1JLcmAMaB-FukayFLtk8/export?format=xlsx\n",
            "To: /content/Day.xlsx\n",
            "61.6kB [00:00, 1.79MB/s]\n"
          ]
        },
        {
          "output_type": "execute_result",
          "data": {
            "text/plain": [
              "'Day.xlsx'"
            ],
            "application/vnd.google.colaboratory.intrinsic+json": {
              "type": "string"
            }
          },
          "metadata": {},
          "execution_count": 4
        }
      ],
      "source": [
        "# https://docs.google.com/spreadsheets/d/13Q0_6-VtReE__4GHiR1-Vmv1JLcmAMaB-FukayFLtk8/edit?gid=734725679#gid=734725679\n",
        "file_id = '13Q0_6-VtReE__4GHiR1-Vmv1JLcmAMaB-FukayFLtk8'\n",
        "url = f'https://drive.google.com/uc?id={file_id}'\n",
        "output = 'Day.xlsx'\n",
        "\n",
        "gdown.download(url, output, quiet=False)"
      ]
    },
    {
      "cell_type": "code",
      "source": [
        "# https://docs.google.com/spreadsheets/d/1S_r0WECBnXKHMufiLT_wkqhvjXivwaR4KL_56GI2Ftw/edit?gid=963664439#gid=963664439\n",
        "file_id = '1S_r0WECBnXKHMufiLT_wkqhvjXivwaR4KL_56GI2Ftw'\n",
        "url = f'https://drive.google.com/uc?id={file_id}'\n",
        "output = 'Hour.xlsx'\n",
        "\n",
        "gdown.download(url, output, quiet=False)"
      ],
      "metadata": {
        "colab": {
          "base_uri": "https://localhost:8080/",
          "height": 123
        },
        "id": "28tRQSefdodl",
        "outputId": "e5289ac9-510b-4121-82a8-b47bfab58109"
      },
      "execution_count": null,
      "outputs": [
        {
          "output_type": "stream",
          "name": "stderr",
          "text": [
            "Downloading...\n",
            "From (original): https://drive.google.com/uc?id=1S_r0WECBnXKHMufiLT_wkqhvjXivwaR4KL_56GI2Ftw\n",
            "From (redirected): https://docs.google.com/spreadsheets/d/1S_r0WECBnXKHMufiLT_wkqhvjXivwaR4KL_56GI2Ftw/export?format=xlsx\n",
            "To: /content/Hour.xlsx\n",
            "1.13MB [00:00, 7.16MB/s]\n"
          ]
        },
        {
          "output_type": "execute_result",
          "data": {
            "text/plain": [
              "'Hour.xlsx'"
            ],
            "application/vnd.google.colaboratory.intrinsic+json": {
              "type": "string"
            }
          },
          "metadata": {},
          "execution_count": 5
        }
      ]
    },
    {
      "cell_type": "code",
      "source": [
        "df_day = pd.read_excel('Day.xlsx')\n",
        "df_hour = pd.read_excel('Hour.xlsx')"
      ],
      "metadata": {
        "id": "88X5JcWBcmTO"
      },
      "execution_count": null,
      "outputs": []
    },
    {
      "cell_type": "code",
      "source": [
        "print(\"First 5 rows of day dataset:\")\n",
        "print(df_day.head())"
      ],
      "metadata": {
        "colab": {
          "base_uri": "https://localhost:8080/"
        },
        "id": "pDXmB5wveUHd",
        "outputId": "bb8a4850-b227-4e03-a2f9-267ddc631c87"
      },
      "execution_count": null,
      "outputs": [
        {
          "output_type": "stream",
          "name": "stdout",
          "text": [
            "First 5 rows of day dataset:\n",
            "   instant     dteday  season  yr  mnth  holiday  weekday  workingday  \\\n",
            "0        1 2011-01-01       1   0     1        0        6           0   \n",
            "1        2 2011-01-02       1   0     1        0        0           0   \n",
            "2        3 2011-01-03       1   0     1        0        1           1   \n",
            "3        4 2011-01-04       1   0     1        0        2           1   \n",
            "4        5 2011-01-05       1   0     1        0        3           1   \n",
            "\n",
            "   weathersit      temp     atemp       hum  windspeed  casual  registered  \\\n",
            "0           2  0.344167  0.363625  0.805833   0.160446     331         654   \n",
            "1           2  0.363478  0.353739  0.696087   0.248539     131         670   \n",
            "2           1  0.196364  0.189405  0.437273   0.248309     120        1229   \n",
            "3           1  0.200000  0.212122  0.590435   0.160296     108        1454   \n",
            "4           1  0.226957  0.229270  0.436957   0.186900      82        1518   \n",
            "\n",
            "    cnt  \n",
            "0   985  \n",
            "1   801  \n",
            "2  1349  \n",
            "3  1562  \n",
            "4  1600  \n"
          ]
        }
      ]
    },
    {
      "cell_type": "code",
      "source": [
        "print(\"First 5 rows of hour dataset:\")\n",
        "print(df_hour.head())"
      ],
      "metadata": {
        "colab": {
          "base_uri": "https://localhost:8080/"
        },
        "id": "Ass4lfLxecHS",
        "outputId": "81863d81-cd22-4a49-bc46-f0f3c13c3a59"
      },
      "execution_count": null,
      "outputs": [
        {
          "output_type": "stream",
          "name": "stdout",
          "text": [
            "First 5 rows of hour dataset:\n",
            "   instant     dteday  season  yr  mnth  hr  holiday  weekday  workingday  \\\n",
            "0        1 2011-01-01       1   0     1   0        0        6           0   \n",
            "1        2 2011-01-01       1   0     1   1        0        6           0   \n",
            "2        3 2011-01-01       1   0     1   2        0        6           0   \n",
            "3        4 2011-01-01       1   0     1   3        0        6           0   \n",
            "4        5 2011-01-01       1   0     1   4        0        6           0   \n",
            "\n",
            "   weathersit  temp   atemp   hum  windspeed  casual  registered  cnt  \n",
            "0           1  0.24  0.2879  0.81        0.0       3          13   16  \n",
            "1           1  0.22  0.2727  0.80        0.0       8          32   40  \n",
            "2           1  0.22  0.2727  0.80        0.0       5          27   32  \n",
            "3           1  0.24  0.2879  0.75        0.0       3          10   13  \n",
            "4           1  0.24  0.2879  0.75        0.0       0           1    1  \n"
          ]
        }
      ]
    },
    {
      "cell_type": "markdown",
      "source": [
        "**Insight:**\n",
        "- Dataset day berisi data penyewaan sepeda harian\n",
        "- Dataset hour berisi data penyewaan per jam."
      ],
      "metadata": {
        "id": "MMi6xGaDkbCi"
      }
    },
    {
      "cell_type": "markdown",
      "metadata": {
        "id": "FHSiqaZp8DC1"
      },
      "source": [
        "### Assessing Data"
      ]
    },
    {
      "cell_type": "code",
      "source": [
        "print(\"\\nInfo day dataset:\")\n",
        "df_day.info()"
      ],
      "metadata": {
        "id": "ax-3tEjc9Cj1",
        "colab": {
          "base_uri": "https://localhost:8080/"
        },
        "outputId": "476639b5-1d51-4423-acd2-9c9cb06f2235"
      },
      "execution_count": null,
      "outputs": [
        {
          "output_type": "stream",
          "name": "stdout",
          "text": [
            "\n",
            "Info day dataset:\n",
            "<class 'pandas.core.frame.DataFrame'>\n",
            "RangeIndex: 731 entries, 0 to 730\n",
            "Data columns (total 16 columns):\n",
            " #   Column      Non-Null Count  Dtype         \n",
            "---  ------      --------------  -----         \n",
            " 0   instant     731 non-null    int64         \n",
            " 1   dteday      731 non-null    datetime64[ns]\n",
            " 2   season      731 non-null    int64         \n",
            " 3   yr          731 non-null    int64         \n",
            " 4   mnth        731 non-null    int64         \n",
            " 5   holiday     731 non-null    int64         \n",
            " 6   weekday     731 non-null    int64         \n",
            " 7   workingday  731 non-null    int64         \n",
            " 8   weathersit  731 non-null    int64         \n",
            " 9   temp        731 non-null    float64       \n",
            " 10  atemp       731 non-null    float64       \n",
            " 11  hum         731 non-null    float64       \n",
            " 12  windspeed   731 non-null    float64       \n",
            " 13  casual      731 non-null    int64         \n",
            " 14  registered  731 non-null    int64         \n",
            " 15  cnt         731 non-null    int64         \n",
            "dtypes: datetime64[ns](1), float64(4), int64(11)\n",
            "memory usage: 91.5 KB\n"
          ]
        }
      ]
    },
    {
      "cell_type": "code",
      "source": [
        "print(\"\\nInfo hour dataset:\")\n",
        "df_hour.info()"
      ],
      "metadata": {
        "colab": {
          "base_uri": "https://localhost:8080/"
        },
        "id": "5TA7kA7-euBK",
        "outputId": "35a9b41e-75f5-4ff5-bc48-797bff985f8a"
      },
      "execution_count": null,
      "outputs": [
        {
          "output_type": "stream",
          "name": "stdout",
          "text": [
            "\n",
            "Info hour dataset:\n",
            "<class 'pandas.core.frame.DataFrame'>\n",
            "RangeIndex: 17379 entries, 0 to 17378\n",
            "Data columns (total 17 columns):\n",
            " #   Column      Non-Null Count  Dtype         \n",
            "---  ------      --------------  -----         \n",
            " 0   instant     17379 non-null  int64         \n",
            " 1   dteday      17379 non-null  datetime64[ns]\n",
            " 2   season      17379 non-null  int64         \n",
            " 3   yr          17379 non-null  int64         \n",
            " 4   mnth        17379 non-null  int64         \n",
            " 5   hr          17379 non-null  int64         \n",
            " 6   holiday     17379 non-null  int64         \n",
            " 7   weekday     17379 non-null  int64         \n",
            " 8   workingday  17379 non-null  int64         \n",
            " 9   weathersit  17379 non-null  int64         \n",
            " 10  temp        17379 non-null  float64       \n",
            " 11  atemp       17379 non-null  float64       \n",
            " 12  hum         17379 non-null  float64       \n",
            " 13  windspeed   17379 non-null  float64       \n",
            " 14  casual      17379 non-null  int64         \n",
            " 15  registered  17379 non-null  int64         \n",
            " 16  cnt         17379 non-null  int64         \n",
            "dtypes: datetime64[ns](1), float64(4), int64(12)\n",
            "memory usage: 2.3 MB\n"
          ]
        }
      ]
    },
    {
      "cell_type": "code",
      "source": [
        "# Mengecek jumlah missing values\n",
        "day_missing = df_day.isnull().sum()\n",
        "hour_missing = df_hour.isnull().sum()\n",
        "\n",
        "print(\"\\nMissing values in day dataset:\")\n",
        "print(day_missing[day_missing > 0])\n",
        "\n",
        "print(\"\\nMissing values in hour dataset:\")\n",
        "print(hour_missing[hour_missing > 0])"
      ],
      "metadata": {
        "colab": {
          "base_uri": "https://localhost:8080/"
        },
        "id": "Z5hzL-RCfzcA",
        "outputId": "658ffc2b-5c2b-4600-e0d6-e9d0a8bc785b"
      },
      "execution_count": null,
      "outputs": [
        {
          "output_type": "stream",
          "name": "stdout",
          "text": [
            "\n",
            "Missing values in day dataset:\n",
            "Series([], dtype: int64)\n",
            "\n",
            "Missing values in hour dataset:\n",
            "Series([], dtype: int64)\n"
          ]
        }
      ]
    },
    {
      "cell_type": "code",
      "source": [
        "# Mengecek nilai unik pada beberapa kolom kategorikal\n",
        "print(\"\\nUnique values in categorical columns (day dataset):\")\n",
        "print(df_day[['season', 'yr', 'mnth', 'holiday', 'weekday', 'workingday', 'weathersit']].nunique())"
      ],
      "metadata": {
        "colab": {
          "base_uri": "https://localhost:8080/"
        },
        "id": "TsBemHwyfj58",
        "outputId": "288cfd16-6a84-4cd1-d859-b23a2e96300e"
      },
      "execution_count": null,
      "outputs": [
        {
          "output_type": "stream",
          "name": "stdout",
          "text": [
            "\n",
            "Unique values in categorical columns (day dataset):\n",
            "season         4\n",
            "yr             2\n",
            "mnth          12\n",
            "holiday        2\n",
            "weekday        7\n",
            "workingday     2\n",
            "weathersit     3\n",
            "dtype: int64\n"
          ]
        }
      ]
    },
    {
      "cell_type": "code",
      "source": [
        "# Mengecek nilai unik pada beberapa kolom kategorikal\n",
        "print(\"\\nUnique values in categorical columns (hour dataset):\")\n",
        "print(df_hour[['season', 'yr', 'mnth', 'hr', 'holiday', 'weekday', 'workingday', 'weathersit']].nunique())"
      ],
      "metadata": {
        "colab": {
          "base_uri": "https://localhost:8080/"
        },
        "id": "d5vaopWzfs9P",
        "outputId": "4cb6557d-ede6-432c-9e48-4c9a3b88e589"
      },
      "execution_count": null,
      "outputs": [
        {
          "output_type": "stream",
          "name": "stdout",
          "text": [
            "\n",
            "Unique values in categorical columns (hour dataset):\n",
            "season         4\n",
            "yr             2\n",
            "mnth          12\n",
            "hr            24\n",
            "holiday        2\n",
            "weekday        7\n",
            "workingday     2\n",
            "weathersit     4\n",
            "dtype: int64\n"
          ]
        }
      ]
    },
    {
      "cell_type": "markdown",
      "source": [
        "**Insight:**\n",
        "-  Pada kedua dataset tersebut mengandung data type integer, float, dan date time\n",
        "-  Tidak ada missing values dalam dataset, semua kolom sudah memiliki nilai lengkap\n",
        "- Kolom kategorikal memiliki jumlah nilai unik yang sesuai dengan ekspektasi"
      ],
      "metadata": {
        "id": "7dtxhAPrkhPL"
      }
    },
    {
      "cell_type": "markdown",
      "metadata": {
        "id": "EhN5R4hr8DC1"
      },
      "source": [
        "### Cleaning Data"
      ]
    },
    {
      "cell_type": "markdown",
      "source": [
        "**a. Menghapus kolom yang tidak diperlukan**.\n",
        "Kolom instant adalah indeks unik setiap baris dan tidak relevan untuk analisis."
      ],
      "metadata": {
        "id": "MYe0_2QsiyIK"
      }
    },
    {
      "cell_type": "code",
      "source": [
        "df_day.drop(columns=['instant'], inplace=True)\n",
        "df_hour.drop(columns=['instant'], inplace=True)"
      ],
      "metadata": {
        "id": "jVnYpprE9Evz"
      },
      "execution_count": null,
      "outputs": []
    },
    {
      "cell_type": "markdown",
      "source": [
        "**b. Menangani data kategorikal.** Beberapa kolom memiliki representasi angka tetapi sebenarnya adalah kategori (season, yr, mnth, hr, holiday, weekday, workingday, dan weathersit). Sebaiknya ubah mereka menjadi tipe data category agar lebih efisien."
      ],
      "metadata": {
        "id": "Uf3pkHmZi7-7"
      }
    },
    {
      "cell_type": "code",
      "source": [
        "# List kategori untuk masing-masing dataset\n",
        "categorical_cols_day = ['season', 'yr', 'mnth', 'holiday', 'weekday', 'workingday', 'weathersit']\n",
        "categorical_cols_hour = ['season', 'yr', 'mnth', 'hr', 'holiday', 'weekday', 'workingday', 'weathersit']\n",
        "\n",
        "# Konversi ke tipe kategori\n",
        "df_day[categorical_cols_day] = df_day[categorical_cols_day].astype('category')\n",
        "df_hour[categorical_cols_hour] = df_hour[categorical_cols_hour].astype('category')\n"
      ],
      "metadata": {
        "id": "asyS9flmitha"
      },
      "execution_count": null,
      "outputs": []
    },
    {
      "cell_type": "markdown",
      "source": [
        "**c. Memeriksa Duplikasi Data**"
      ],
      "metadata": {
        "id": "j70qAoCKjX9J"
      }
    },
    {
      "cell_type": "code",
      "source": [
        "print(\"Duplicate rows in day dataset:\", df_day.duplicated().sum())\n",
        "print(\"Duplicate rows in hour dataset:\", df_hour.duplicated().sum())\n",
        "\n",
        "# Jika ada duplikasi, hapus dengan:\n",
        "df_day.drop_duplicates(inplace=True)\n",
        "df_hour.drop_duplicates(inplace=True)\n"
      ],
      "metadata": {
        "colab": {
          "base_uri": "https://localhost:8080/"
        },
        "id": "2rwbvlWXjbtu",
        "outputId": "a526682f-a9f7-42cd-e516-935976cbfa79"
      },
      "execution_count": null,
      "outputs": [
        {
          "output_type": "stream",
          "name": "stdout",
          "text": [
            "Duplicate rows in day dataset: 0\n",
            "Duplicate rows in hour dataset: 0\n"
          ]
        }
      ]
    },
    {
      "cell_type": "markdown",
      "source": [
        "**Insight:**\n",
        "- Tidak ada duplikasi dalam dataset, sehingga data sudah unik dan tidak perlu dihapus\n",
        "- Kolom yang dianggap tidak perlu dalam analisis sudah dihapus"
      ],
      "metadata": {
        "id": "Q_5ejIqckiSP"
      }
    },
    {
      "cell_type": "markdown",
      "metadata": {
        "id": "gp-Y6wU38DC1"
      },
      "source": [
        "## Exploratory Data Analysis (EDA)"
      ]
    },
    {
      "cell_type": "markdown",
      "source": [
        "### Explore Dataset Hour"
      ],
      "metadata": {
        "id": "HQewIeDrnwHr"
      }
    },
    {
      "cell_type": "code",
      "source": [
        "# Rangkuman statistik dataset df_hour\n",
        "df_hour.describe(include=\"all\")"
      ],
      "metadata": {
        "colab": {
          "base_uri": "https://localhost:8080/",
          "height": 518
        },
        "id": "rEOx0SDAnuIB",
        "outputId": "ee3ce13d-3e8d-4f61-e06c-7d6eed7b3bd6"
      },
      "execution_count": null,
      "outputs": [
        {
          "output_type": "execute_result",
          "data": {
            "text/plain": [
              "                               dteday   season       yr     mnth       hr  \\\n",
              "count                           17379  17379.0  17379.0  17379.0  17379.0   \n",
              "unique                            NaN      4.0      2.0     12.0     24.0   \n",
              "top                               NaN      3.0      1.0      5.0     17.0   \n",
              "freq                              NaN   4496.0   8734.0   1488.0    730.0   \n",
              "mean    2012-01-02 04:08:34.552045568      NaN      NaN      NaN      NaN   \n",
              "min               2011-01-01 00:00:00      NaN      NaN      NaN      NaN   \n",
              "25%               2011-07-04 00:00:00      NaN      NaN      NaN      NaN   \n",
              "50%               2012-01-02 00:00:00      NaN      NaN      NaN      NaN   \n",
              "75%               2012-07-02 00:00:00      NaN      NaN      NaN      NaN   \n",
              "max               2012-12-31 00:00:00      NaN      NaN      NaN      NaN   \n",
              "std                               NaN      NaN      NaN      NaN      NaN   \n",
              "\n",
              "        holiday  weekday  workingday  weathersit          temp         atemp  \\\n",
              "count   17379.0  17379.0     17379.0     17379.0  17379.000000  17379.000000   \n",
              "unique      2.0      7.0         2.0         4.0           NaN           NaN   \n",
              "top         0.0      6.0         1.0         1.0           NaN           NaN   \n",
              "freq    16879.0   2512.0     11865.0     11413.0           NaN           NaN   \n",
              "mean        NaN      NaN         NaN         NaN      0.496987      0.475775   \n",
              "min         NaN      NaN         NaN         NaN      0.020000      0.000000   \n",
              "25%         NaN      NaN         NaN         NaN      0.340000      0.333300   \n",
              "50%         NaN      NaN         NaN         NaN      0.500000      0.484800   \n",
              "75%         NaN      NaN         NaN         NaN      0.660000      0.621200   \n",
              "max         NaN      NaN         NaN         NaN      1.000000      1.000000   \n",
              "std         NaN      NaN         NaN         NaN      0.192556      0.171850   \n",
              "\n",
              "                 hum     windspeed        casual    registered           cnt  \n",
              "count   17379.000000  17379.000000  17379.000000  17379.000000  17379.000000  \n",
              "unique           NaN           NaN           NaN           NaN           NaN  \n",
              "top              NaN           NaN           NaN           NaN           NaN  \n",
              "freq             NaN           NaN           NaN           NaN           NaN  \n",
              "mean        0.627229      0.190098     35.676218    153.786869    189.463088  \n",
              "min         0.000000      0.000000      0.000000      0.000000      1.000000  \n",
              "25%         0.480000      0.104500      4.000000     34.000000     40.000000  \n",
              "50%         0.630000      0.194000     17.000000    115.000000    142.000000  \n",
              "75%         0.780000      0.253700     48.000000    220.000000    281.000000  \n",
              "max         1.000000      0.850700    367.000000    886.000000    977.000000  \n",
              "std         0.192930      0.122340     49.305030    151.357286    181.387599  "
            ],
            "text/html": [
              "\n",
              "  <div id=\"df-12ad0f12-87d4-44af-8f1c-db2a43a9eaa0\" class=\"colab-df-container\">\n",
              "    <div>\n",
              "<style scoped>\n",
              "    .dataframe tbody tr th:only-of-type {\n",
              "        vertical-align: middle;\n",
              "    }\n",
              "\n",
              "    .dataframe tbody tr th {\n",
              "        vertical-align: top;\n",
              "    }\n",
              "\n",
              "    .dataframe thead th {\n",
              "        text-align: right;\n",
              "    }\n",
              "</style>\n",
              "<table border=\"1\" class=\"dataframe\">\n",
              "  <thead>\n",
              "    <tr style=\"text-align: right;\">\n",
              "      <th></th>\n",
              "      <th>dteday</th>\n",
              "      <th>season</th>\n",
              "      <th>yr</th>\n",
              "      <th>mnth</th>\n",
              "      <th>hr</th>\n",
              "      <th>holiday</th>\n",
              "      <th>weekday</th>\n",
              "      <th>workingday</th>\n",
              "      <th>weathersit</th>\n",
              "      <th>temp</th>\n",
              "      <th>atemp</th>\n",
              "      <th>hum</th>\n",
              "      <th>windspeed</th>\n",
              "      <th>casual</th>\n",
              "      <th>registered</th>\n",
              "      <th>cnt</th>\n",
              "    </tr>\n",
              "  </thead>\n",
              "  <tbody>\n",
              "    <tr>\n",
              "      <th>count</th>\n",
              "      <td>17379</td>\n",
              "      <td>17379.0</td>\n",
              "      <td>17379.0</td>\n",
              "      <td>17379.0</td>\n",
              "      <td>17379.0</td>\n",
              "      <td>17379.0</td>\n",
              "      <td>17379.0</td>\n",
              "      <td>17379.0</td>\n",
              "      <td>17379.0</td>\n",
              "      <td>17379.000000</td>\n",
              "      <td>17379.000000</td>\n",
              "      <td>17379.000000</td>\n",
              "      <td>17379.000000</td>\n",
              "      <td>17379.000000</td>\n",
              "      <td>17379.000000</td>\n",
              "      <td>17379.000000</td>\n",
              "    </tr>\n",
              "    <tr>\n",
              "      <th>unique</th>\n",
              "      <td>NaN</td>\n",
              "      <td>4.0</td>\n",
              "      <td>2.0</td>\n",
              "      <td>12.0</td>\n",
              "      <td>24.0</td>\n",
              "      <td>2.0</td>\n",
              "      <td>7.0</td>\n",
              "      <td>2.0</td>\n",
              "      <td>4.0</td>\n",
              "      <td>NaN</td>\n",
              "      <td>NaN</td>\n",
              "      <td>NaN</td>\n",
              "      <td>NaN</td>\n",
              "      <td>NaN</td>\n",
              "      <td>NaN</td>\n",
              "      <td>NaN</td>\n",
              "    </tr>\n",
              "    <tr>\n",
              "      <th>top</th>\n",
              "      <td>NaN</td>\n",
              "      <td>3.0</td>\n",
              "      <td>1.0</td>\n",
              "      <td>5.0</td>\n",
              "      <td>17.0</td>\n",
              "      <td>0.0</td>\n",
              "      <td>6.0</td>\n",
              "      <td>1.0</td>\n",
              "      <td>1.0</td>\n",
              "      <td>NaN</td>\n",
              "      <td>NaN</td>\n",
              "      <td>NaN</td>\n",
              "      <td>NaN</td>\n",
              "      <td>NaN</td>\n",
              "      <td>NaN</td>\n",
              "      <td>NaN</td>\n",
              "    </tr>\n",
              "    <tr>\n",
              "      <th>freq</th>\n",
              "      <td>NaN</td>\n",
              "      <td>4496.0</td>\n",
              "      <td>8734.0</td>\n",
              "      <td>1488.0</td>\n",
              "      <td>730.0</td>\n",
              "      <td>16879.0</td>\n",
              "      <td>2512.0</td>\n",
              "      <td>11865.0</td>\n",
              "      <td>11413.0</td>\n",
              "      <td>NaN</td>\n",
              "      <td>NaN</td>\n",
              "      <td>NaN</td>\n",
              "      <td>NaN</td>\n",
              "      <td>NaN</td>\n",
              "      <td>NaN</td>\n",
              "      <td>NaN</td>\n",
              "    </tr>\n",
              "    <tr>\n",
              "      <th>mean</th>\n",
              "      <td>2012-01-02 04:08:34.552045568</td>\n",
              "      <td>NaN</td>\n",
              "      <td>NaN</td>\n",
              "      <td>NaN</td>\n",
              "      <td>NaN</td>\n",
              "      <td>NaN</td>\n",
              "      <td>NaN</td>\n",
              "      <td>NaN</td>\n",
              "      <td>NaN</td>\n",
              "      <td>0.496987</td>\n",
              "      <td>0.475775</td>\n",
              "      <td>0.627229</td>\n",
              "      <td>0.190098</td>\n",
              "      <td>35.676218</td>\n",
              "      <td>153.786869</td>\n",
              "      <td>189.463088</td>\n",
              "    </tr>\n",
              "    <tr>\n",
              "      <th>min</th>\n",
              "      <td>2011-01-01 00:00:00</td>\n",
              "      <td>NaN</td>\n",
              "      <td>NaN</td>\n",
              "      <td>NaN</td>\n",
              "      <td>NaN</td>\n",
              "      <td>NaN</td>\n",
              "      <td>NaN</td>\n",
              "      <td>NaN</td>\n",
              "      <td>NaN</td>\n",
              "      <td>0.020000</td>\n",
              "      <td>0.000000</td>\n",
              "      <td>0.000000</td>\n",
              "      <td>0.000000</td>\n",
              "      <td>0.000000</td>\n",
              "      <td>0.000000</td>\n",
              "      <td>1.000000</td>\n",
              "    </tr>\n",
              "    <tr>\n",
              "      <th>25%</th>\n",
              "      <td>2011-07-04 00:00:00</td>\n",
              "      <td>NaN</td>\n",
              "      <td>NaN</td>\n",
              "      <td>NaN</td>\n",
              "      <td>NaN</td>\n",
              "      <td>NaN</td>\n",
              "      <td>NaN</td>\n",
              "      <td>NaN</td>\n",
              "      <td>NaN</td>\n",
              "      <td>0.340000</td>\n",
              "      <td>0.333300</td>\n",
              "      <td>0.480000</td>\n",
              "      <td>0.104500</td>\n",
              "      <td>4.000000</td>\n",
              "      <td>34.000000</td>\n",
              "      <td>40.000000</td>\n",
              "    </tr>\n",
              "    <tr>\n",
              "      <th>50%</th>\n",
              "      <td>2012-01-02 00:00:00</td>\n",
              "      <td>NaN</td>\n",
              "      <td>NaN</td>\n",
              "      <td>NaN</td>\n",
              "      <td>NaN</td>\n",
              "      <td>NaN</td>\n",
              "      <td>NaN</td>\n",
              "      <td>NaN</td>\n",
              "      <td>NaN</td>\n",
              "      <td>0.500000</td>\n",
              "      <td>0.484800</td>\n",
              "      <td>0.630000</td>\n",
              "      <td>0.194000</td>\n",
              "      <td>17.000000</td>\n",
              "      <td>115.000000</td>\n",
              "      <td>142.000000</td>\n",
              "    </tr>\n",
              "    <tr>\n",
              "      <th>75%</th>\n",
              "      <td>2012-07-02 00:00:00</td>\n",
              "      <td>NaN</td>\n",
              "      <td>NaN</td>\n",
              "      <td>NaN</td>\n",
              "      <td>NaN</td>\n",
              "      <td>NaN</td>\n",
              "      <td>NaN</td>\n",
              "      <td>NaN</td>\n",
              "      <td>NaN</td>\n",
              "      <td>0.660000</td>\n",
              "      <td>0.621200</td>\n",
              "      <td>0.780000</td>\n",
              "      <td>0.253700</td>\n",
              "      <td>48.000000</td>\n",
              "      <td>220.000000</td>\n",
              "      <td>281.000000</td>\n",
              "    </tr>\n",
              "    <tr>\n",
              "      <th>max</th>\n",
              "      <td>2012-12-31 00:00:00</td>\n",
              "      <td>NaN</td>\n",
              "      <td>NaN</td>\n",
              "      <td>NaN</td>\n",
              "      <td>NaN</td>\n",
              "      <td>NaN</td>\n",
              "      <td>NaN</td>\n",
              "      <td>NaN</td>\n",
              "      <td>NaN</td>\n",
              "      <td>1.000000</td>\n",
              "      <td>1.000000</td>\n",
              "      <td>1.000000</td>\n",
              "      <td>0.850700</td>\n",
              "      <td>367.000000</td>\n",
              "      <td>886.000000</td>\n",
              "      <td>977.000000</td>\n",
              "    </tr>\n",
              "    <tr>\n",
              "      <th>std</th>\n",
              "      <td>NaN</td>\n",
              "      <td>NaN</td>\n",
              "      <td>NaN</td>\n",
              "      <td>NaN</td>\n",
              "      <td>NaN</td>\n",
              "      <td>NaN</td>\n",
              "      <td>NaN</td>\n",
              "      <td>NaN</td>\n",
              "      <td>NaN</td>\n",
              "      <td>0.192556</td>\n",
              "      <td>0.171850</td>\n",
              "      <td>0.192930</td>\n",
              "      <td>0.122340</td>\n",
              "      <td>49.305030</td>\n",
              "      <td>151.357286</td>\n",
              "      <td>181.387599</td>\n",
              "    </tr>\n",
              "  </tbody>\n",
              "</table>\n",
              "</div>\n",
              "    <div class=\"colab-df-buttons\">\n",
              "\n",
              "  <div class=\"colab-df-container\">\n",
              "    <button class=\"colab-df-convert\" onclick=\"convertToInteractive('df-12ad0f12-87d4-44af-8f1c-db2a43a9eaa0')\"\n",
              "            title=\"Convert this dataframe to an interactive table.\"\n",
              "            style=\"display:none;\">\n",
              "\n",
              "  <svg xmlns=\"http://www.w3.org/2000/svg\" height=\"24px\" viewBox=\"0 -960 960 960\">\n",
              "    <path d=\"M120-120v-720h720v720H120Zm60-500h600v-160H180v160Zm220 220h160v-160H400v160Zm0 220h160v-160H400v160ZM180-400h160v-160H180v160Zm440 0h160v-160H620v160ZM180-180h160v-160H180v160Zm440 0h160v-160H620v160Z\"/>\n",
              "  </svg>\n",
              "    </button>\n",
              "\n",
              "  <style>\n",
              "    .colab-df-container {\n",
              "      display:flex;\n",
              "      gap: 12px;\n",
              "    }\n",
              "\n",
              "    .colab-df-convert {\n",
              "      background-color: #E8F0FE;\n",
              "      border: none;\n",
              "      border-radius: 50%;\n",
              "      cursor: pointer;\n",
              "      display: none;\n",
              "      fill: #1967D2;\n",
              "      height: 32px;\n",
              "      padding: 0 0 0 0;\n",
              "      width: 32px;\n",
              "    }\n",
              "\n",
              "    .colab-df-convert:hover {\n",
              "      background-color: #E2EBFA;\n",
              "      box-shadow: 0px 1px 2px rgba(60, 64, 67, 0.3), 0px 1px 3px 1px rgba(60, 64, 67, 0.15);\n",
              "      fill: #174EA6;\n",
              "    }\n",
              "\n",
              "    .colab-df-buttons div {\n",
              "      margin-bottom: 4px;\n",
              "    }\n",
              "\n",
              "    [theme=dark] .colab-df-convert {\n",
              "      background-color: #3B4455;\n",
              "      fill: #D2E3FC;\n",
              "    }\n",
              "\n",
              "    [theme=dark] .colab-df-convert:hover {\n",
              "      background-color: #434B5C;\n",
              "      box-shadow: 0px 1px 3px 1px rgba(0, 0, 0, 0.15);\n",
              "      filter: drop-shadow(0px 1px 2px rgba(0, 0, 0, 0.3));\n",
              "      fill: #FFFFFF;\n",
              "    }\n",
              "  </style>\n",
              "\n",
              "    <script>\n",
              "      const buttonEl =\n",
              "        document.querySelector('#df-12ad0f12-87d4-44af-8f1c-db2a43a9eaa0 button.colab-df-convert');\n",
              "      buttonEl.style.display =\n",
              "        google.colab.kernel.accessAllowed ? 'block' : 'none';\n",
              "\n",
              "      async function convertToInteractive(key) {\n",
              "        const element = document.querySelector('#df-12ad0f12-87d4-44af-8f1c-db2a43a9eaa0');\n",
              "        const dataTable =\n",
              "          await google.colab.kernel.invokeFunction('convertToInteractive',\n",
              "                                                    [key], {});\n",
              "        if (!dataTable) return;\n",
              "\n",
              "        const docLinkHtml = 'Like what you see? Visit the ' +\n",
              "          '<a target=\"_blank\" href=https://colab.research.google.com/notebooks/data_table.ipynb>data table notebook</a>'\n",
              "          + ' to learn more about interactive tables.';\n",
              "        element.innerHTML = '';\n",
              "        dataTable['output_type'] = 'display_data';\n",
              "        await google.colab.output.renderOutput(dataTable, element);\n",
              "        const docLink = document.createElement('div');\n",
              "        docLink.innerHTML = docLinkHtml;\n",
              "        element.appendChild(docLink);\n",
              "      }\n",
              "    </script>\n",
              "  </div>\n",
              "\n",
              "\n",
              "<div id=\"df-d4f62401-5a01-412f-8f6e-b2bf7f77d6bd\">\n",
              "  <button class=\"colab-df-quickchart\" onclick=\"quickchart('df-d4f62401-5a01-412f-8f6e-b2bf7f77d6bd')\"\n",
              "            title=\"Suggest charts\"\n",
              "            style=\"display:none;\">\n",
              "\n",
              "<svg xmlns=\"http://www.w3.org/2000/svg\" height=\"24px\"viewBox=\"0 0 24 24\"\n",
              "     width=\"24px\">\n",
              "    <g>\n",
              "        <path d=\"M19 3H5c-1.1 0-2 .9-2 2v14c0 1.1.9 2 2 2h14c1.1 0 2-.9 2-2V5c0-1.1-.9-2-2-2zM9 17H7v-7h2v7zm4 0h-2V7h2v10zm4 0h-2v-4h2v4z\"/>\n",
              "    </g>\n",
              "</svg>\n",
              "  </button>\n",
              "\n",
              "<style>\n",
              "  .colab-df-quickchart {\n",
              "      --bg-color: #E8F0FE;\n",
              "      --fill-color: #1967D2;\n",
              "      --hover-bg-color: #E2EBFA;\n",
              "      --hover-fill-color: #174EA6;\n",
              "      --disabled-fill-color: #AAA;\n",
              "      --disabled-bg-color: #DDD;\n",
              "  }\n",
              "\n",
              "  [theme=dark] .colab-df-quickchart {\n",
              "      --bg-color: #3B4455;\n",
              "      --fill-color: #D2E3FC;\n",
              "      --hover-bg-color: #434B5C;\n",
              "      --hover-fill-color: #FFFFFF;\n",
              "      --disabled-bg-color: #3B4455;\n",
              "      --disabled-fill-color: #666;\n",
              "  }\n",
              "\n",
              "  .colab-df-quickchart {\n",
              "    background-color: var(--bg-color);\n",
              "    border: none;\n",
              "    border-radius: 50%;\n",
              "    cursor: pointer;\n",
              "    display: none;\n",
              "    fill: var(--fill-color);\n",
              "    height: 32px;\n",
              "    padding: 0;\n",
              "    width: 32px;\n",
              "  }\n",
              "\n",
              "  .colab-df-quickchart:hover {\n",
              "    background-color: var(--hover-bg-color);\n",
              "    box-shadow: 0 1px 2px rgba(60, 64, 67, 0.3), 0 1px 3px 1px rgba(60, 64, 67, 0.15);\n",
              "    fill: var(--button-hover-fill-color);\n",
              "  }\n",
              "\n",
              "  .colab-df-quickchart-complete:disabled,\n",
              "  .colab-df-quickchart-complete:disabled:hover {\n",
              "    background-color: var(--disabled-bg-color);\n",
              "    fill: var(--disabled-fill-color);\n",
              "    box-shadow: none;\n",
              "  }\n",
              "\n",
              "  .colab-df-spinner {\n",
              "    border: 2px solid var(--fill-color);\n",
              "    border-color: transparent;\n",
              "    border-bottom-color: var(--fill-color);\n",
              "    animation:\n",
              "      spin 1s steps(1) infinite;\n",
              "  }\n",
              "\n",
              "  @keyframes spin {\n",
              "    0% {\n",
              "      border-color: transparent;\n",
              "      border-bottom-color: var(--fill-color);\n",
              "      border-left-color: var(--fill-color);\n",
              "    }\n",
              "    20% {\n",
              "      border-color: transparent;\n",
              "      border-left-color: var(--fill-color);\n",
              "      border-top-color: var(--fill-color);\n",
              "    }\n",
              "    30% {\n",
              "      border-color: transparent;\n",
              "      border-left-color: var(--fill-color);\n",
              "      border-top-color: var(--fill-color);\n",
              "      border-right-color: var(--fill-color);\n",
              "    }\n",
              "    40% {\n",
              "      border-color: transparent;\n",
              "      border-right-color: var(--fill-color);\n",
              "      border-top-color: var(--fill-color);\n",
              "    }\n",
              "    60% {\n",
              "      border-color: transparent;\n",
              "      border-right-color: var(--fill-color);\n",
              "    }\n",
              "    80% {\n",
              "      border-color: transparent;\n",
              "      border-right-color: var(--fill-color);\n",
              "      border-bottom-color: var(--fill-color);\n",
              "    }\n",
              "    90% {\n",
              "      border-color: transparent;\n",
              "      border-bottom-color: var(--fill-color);\n",
              "    }\n",
              "  }\n",
              "</style>\n",
              "\n",
              "  <script>\n",
              "    async function quickchart(key) {\n",
              "      const quickchartButtonEl =\n",
              "        document.querySelector('#' + key + ' button');\n",
              "      quickchartButtonEl.disabled = true;  // To prevent multiple clicks.\n",
              "      quickchartButtonEl.classList.add('colab-df-spinner');\n",
              "      try {\n",
              "        const charts = await google.colab.kernel.invokeFunction(\n",
              "            'suggestCharts', [key], {});\n",
              "      } catch (error) {\n",
              "        console.error('Error during call to suggestCharts:', error);\n",
              "      }\n",
              "      quickchartButtonEl.classList.remove('colab-df-spinner');\n",
              "      quickchartButtonEl.classList.add('colab-df-quickchart-complete');\n",
              "    }\n",
              "    (() => {\n",
              "      let quickchartButtonEl =\n",
              "        document.querySelector('#df-d4f62401-5a01-412f-8f6e-b2bf7f77d6bd button');\n",
              "      quickchartButtonEl.style.display =\n",
              "        google.colab.kernel.accessAllowed ? 'block' : 'none';\n",
              "    })();\n",
              "  </script>\n",
              "</div>\n",
              "\n",
              "    </div>\n",
              "  </div>\n"
            ],
            "application/vnd.google.colaboratory.intrinsic+json": {
              "type": "dataframe",
              "summary": "{\n  \"name\": \"df_hour\",\n  \"rows\": 11,\n  \"fields\": [\n    {\n      \"column\": \"dteday\",\n      \"properties\": {\n        \"dtype\": \"date\",\n        \"min\": \"1970-01-01 00:00:00.000017379\",\n        \"max\": \"2012-12-31 00:00:00\",\n        \"num_unique_values\": 7,\n        \"samples\": [\n          \"17379\",\n          \"2012-01-02 04:08:34.552045568\",\n          \"2012-07-02 00:00:00\"\n        ],\n        \"semantic_type\": \"\",\n        \"description\": \"\"\n      }\n    },\n    {\n      \"column\": \"season\",\n      \"properties\": {\n        \"dtype\": \"number\",\n        \"std\": 8216.61327230792,\n        \"min\": 3.0,\n        \"max\": 17379.0,\n        \"num_unique_values\": 4,\n        \"samples\": [\n          4.0,\n          4496.0,\n          17379.0\n        ],\n        \"semantic_type\": \"\",\n        \"description\": \"\"\n      }\n    },\n    {\n      \"column\": \"yr\",\n      \"properties\": {\n        \"dtype\": \"number\",\n        \"std\": 8322.680617845832,\n        \"min\": 1.0,\n        \"max\": 17379.0,\n        \"num_unique_values\": 4,\n        \"samples\": [\n          2.0,\n          8734.0,\n          17379.0\n        ],\n        \"semantic_type\": \"\",\n        \"description\": \"\"\n      }\n    },\n    {\n      \"column\": \"mnth\",\n      \"properties\": {\n        \"dtype\": \"number\",\n        \"std\": 8467.439400432695,\n        \"min\": 5.0,\n        \"max\": 17379.0,\n        \"num_unique_values\": 4,\n        \"samples\": [\n          12.0,\n          1488.0,\n          17379.0\n        ],\n        \"semantic_type\": \"\",\n        \"description\": \"\"\n      }\n    },\n    {\n      \"column\": \"hr\",\n      \"properties\": {\n        \"dtype\": \"number\",\n        \"std\": 8567.53136362317,\n        \"min\": 17.0,\n        \"max\": 17379.0,\n        \"num_unique_values\": 4,\n        \"samples\": [\n          24.0,\n          730.0,\n          17379.0\n        ],\n        \"semantic_type\": \"\",\n        \"description\": \"\"\n      }\n    },\n    {\n      \"column\": \"holiday\",\n      \"properties\": {\n        \"dtype\": \"number\",\n        \"std\": 9890.961968720063,\n        \"min\": 0.0,\n        \"max\": 17379.0,\n        \"num_unique_values\": 4,\n        \"samples\": [\n          2.0,\n          16879.0,\n          17379.0\n        ],\n        \"semantic_type\": \"\",\n        \"description\": \"\"\n      }\n    },\n    {\n      \"column\": \"weekday\",\n      \"properties\": {\n        \"dtype\": \"number\",\n        \"std\": 8352.595724284358,\n        \"min\": 6.0,\n        \"max\": 17379.0,\n        \"num_unique_values\": 4,\n        \"samples\": [\n          7.0,\n          2512.0,\n          17379.0\n        ],\n        \"semantic_type\": \"\",\n        \"description\": \"\"\n      }\n    },\n    {\n      \"column\": \"workingday\",\n      \"properties\": {\n        \"dtype\": \"number\",\n        \"std\": 8736.153210462067,\n        \"min\": 1.0,\n        \"max\": 17379.0,\n        \"num_unique_values\": 4,\n        \"samples\": [\n          2.0,\n          11865.0,\n          17379.0\n        ],\n        \"semantic_type\": \"\",\n        \"description\": \"\"\n      }\n    },\n    {\n      \"column\": \"weathersit\",\n      \"properties\": {\n        \"dtype\": \"number\",\n        \"std\": 8659.665596892295,\n        \"min\": 1.0,\n        \"max\": 17379.0,\n        \"num_unique_values\": 4,\n        \"samples\": [\n          4.0,\n          11413.0,\n          17379.0\n        ],\n        \"semantic_type\": \"\",\n        \"description\": \"\"\n      }\n    },\n    {\n      \"column\": \"temp\",\n      \"properties\": {\n        \"dtype\": \"number\",\n        \"std\": 6144.242275843299,\n        \"min\": 0.02,\n        \"max\": 17379.0,\n        \"num_unique_values\": 8,\n        \"samples\": [\n          0.4969871684216583,\n          0.66,\n          17379.0\n        ],\n        \"semantic_type\": \"\",\n        \"description\": \"\"\n      }\n    },\n    {\n      \"column\": \"atemp\",\n      \"properties\": {\n        \"dtype\": \"number\",\n        \"std\": 6144.248469131704,\n        \"min\": 0.0,\n        \"max\": 17379.0,\n        \"num_unique_values\": 8,\n        \"samples\": [\n          0.4757751021347604,\n          0.6212,\n          17379.0\n        ],\n        \"semantic_type\": \"\",\n        \"description\": \"\"\n      }\n    },\n    {\n      \"column\": \"hum\",\n      \"properties\": {\n        \"dtype\": \"number\",\n        \"std\": 6144.216991945488,\n        \"min\": 0.0,\n        \"max\": 17379.0,\n        \"num_unique_values\": 8,\n        \"samples\": [\n          0.6272288394038783,\n          0.78,\n          17379.0\n        ],\n        \"semantic_type\": \"\",\n        \"description\": \"\"\n      }\n    },\n    {\n      \"column\": \"windspeed\",\n      \"properties\": {\n        \"dtype\": \"number\",\n        \"std\": 6144.317742909861,\n        \"min\": 0.0,\n        \"max\": 17379.0,\n        \"num_unique_values\": 8,\n        \"samples\": [\n          0.1900976063064618,\n          0.2537,\n          17379.0\n        ],\n        \"semantic_type\": \"\",\n        \"description\": \"\"\n      }\n    },\n    {\n      \"column\": \"casual\",\n      \"properties\": {\n        \"dtype\": \"number\",\n        \"std\": 6119.284233238239,\n        \"min\": 0.0,\n        \"max\": 17379.0,\n        \"num_unique_values\": 8,\n        \"samples\": [\n          35.67621842453536,\n          48.0,\n          17379.0\n        ],\n        \"semantic_type\": \"\",\n        \"description\": \"\"\n      }\n    },\n    {\n      \"column\": \"registered\",\n      \"properties\": {\n        \"dtype\": \"number\",\n        \"std\": 6072.038722856437,\n        \"min\": 0.0,\n        \"max\": 17379.0,\n        \"num_unique_values\": 8,\n        \"samples\": [\n          153.78686920996606,\n          220.0,\n          17379.0\n        ],\n        \"semantic_type\": \"\",\n        \"description\": \"\"\n      }\n    },\n    {\n      \"column\": \"cnt\",\n      \"properties\": {\n        \"dtype\": \"number\",\n        \"std\": 6060.617601280442,\n        \"min\": 1.0,\n        \"max\": 17379.0,\n        \"num_unique_values\": 8,\n        \"samples\": [\n          189.46308763450142,\n          281.0,\n          17379.0\n        ],\n        \"semantic_type\": \"\",\n        \"description\": \"\"\n      }\n    }\n  ]\n}"
            }
          },
          "metadata": {},
          "execution_count": 23
        }
      ]
    },
    {
      "cell_type": "markdown",
      "source": [
        "**Insight**\n",
        "- Min penyewaan: 1 sepeda (kemungkinan terjadi di malam atau dini hari)\n",
        "- Max penyewaan: 977 sepeda per jam (kemungkinan terjadi saat jam sibuk)\n",
        "- Standar deviasi: 181.39, menunjukkan penyewaan cukup bervariasi antar jam\n",
        "- Q1 (25%): 40 sepeda, Median (50%): 142 sepeda, Q3 (75%): 281 sepeda, menunjukkan sebagian besar jam memiliki penyewaan rendah hingga sedang, tetapi ada beberapa jam dengan lonjakan tinggi"
      ],
      "metadata": {
        "id": "JnPljKSGo94K"
      }
    },
    {
      "cell_type": "markdown",
      "source": [
        "### Explore Dataset Day"
      ],
      "metadata": {
        "id": "XxmV6qW6quFr"
      }
    },
    {
      "cell_type": "code",
      "source": [
        "# Rangkuman statistik dataset df_day\n",
        "df_day.describe(include=\"all\")"
      ],
      "metadata": {
        "colab": {
          "base_uri": "https://localhost:8080/",
          "height": 463
        },
        "id": "QzH57LvaoSzN",
        "outputId": "44fb410b-5ec5-4d3f-c84b-d5c65a7c6fa5"
      },
      "execution_count": null,
      "outputs": [
        {
          "output_type": "execute_result",
          "data": {
            "text/plain": [
              "                     dteday  season     yr   mnth  holiday  weekday  \\\n",
              "count                   731   731.0  731.0  731.0    731.0    731.0   \n",
              "unique                  NaN     4.0    2.0   12.0      2.0      7.0   \n",
              "top                     NaN     3.0    1.0    1.0      0.0      0.0   \n",
              "freq                    NaN   188.0  366.0   62.0    710.0    105.0   \n",
              "mean    2012-01-01 00:00:00     NaN    NaN    NaN      NaN      NaN   \n",
              "min     2011-01-01 00:00:00     NaN    NaN    NaN      NaN      NaN   \n",
              "25%     2011-07-02 12:00:00     NaN    NaN    NaN      NaN      NaN   \n",
              "50%     2012-01-01 00:00:00     NaN    NaN    NaN      NaN      NaN   \n",
              "75%     2012-07-01 12:00:00     NaN    NaN    NaN      NaN      NaN   \n",
              "max     2012-12-31 00:00:00     NaN    NaN    NaN      NaN      NaN   \n",
              "std                     NaN     NaN    NaN    NaN      NaN      NaN   \n",
              "\n",
              "        workingday  weathersit        temp       atemp         hum  \\\n",
              "count        731.0       731.0  731.000000  731.000000  731.000000   \n",
              "unique         2.0         3.0         NaN         NaN         NaN   \n",
              "top            1.0         1.0         NaN         NaN         NaN   \n",
              "freq         500.0       463.0         NaN         NaN         NaN   \n",
              "mean           NaN         NaN    0.495385    0.474354    0.627894   \n",
              "min            NaN         NaN    0.059130    0.079070    0.000000   \n",
              "25%            NaN         NaN    0.337083    0.337842    0.520000   \n",
              "50%            NaN         NaN    0.498333    0.486733    0.626667   \n",
              "75%            NaN         NaN    0.655417    0.608602    0.730209   \n",
              "max            NaN         NaN    0.861667    0.840896    0.972500   \n",
              "std            NaN         NaN    0.183051    0.162961    0.142429   \n",
              "\n",
              "         windspeed       casual   registered          cnt wind_category  \n",
              "count   731.000000   731.000000   731.000000   731.000000           731  \n",
              "unique         NaN          NaN          NaN          NaN             4  \n",
              "top            NaN          NaN          NaN          NaN        Sedang  \n",
              "freq           NaN          NaN          NaN          NaN           363  \n",
              "mean      0.190486   848.176471  3656.172367  4504.348837           NaN  \n",
              "min       0.022392     2.000000    20.000000    22.000000           NaN  \n",
              "25%       0.134950   315.500000  2497.000000  3152.000000           NaN  \n",
              "50%       0.180975   713.000000  3662.000000  4548.000000           NaN  \n",
              "75%       0.233214  1096.000000  4776.500000  5956.000000           NaN  \n",
              "max       0.507463  3410.000000  6946.000000  8714.000000           NaN  \n",
              "std       0.077498   686.622488  1560.256377  1937.211452           NaN  "
            ],
            "text/html": [
              "\n",
              "  <div id=\"df-21ab79a3-6ba6-42ce-a030-4f69d690ed8a\" class=\"colab-df-container\">\n",
              "    <div>\n",
              "<style scoped>\n",
              "    .dataframe tbody tr th:only-of-type {\n",
              "        vertical-align: middle;\n",
              "    }\n",
              "\n",
              "    .dataframe tbody tr th {\n",
              "        vertical-align: top;\n",
              "    }\n",
              "\n",
              "    .dataframe thead th {\n",
              "        text-align: right;\n",
              "    }\n",
              "</style>\n",
              "<table border=\"1\" class=\"dataframe\">\n",
              "  <thead>\n",
              "    <tr style=\"text-align: right;\">\n",
              "      <th></th>\n",
              "      <th>dteday</th>\n",
              "      <th>season</th>\n",
              "      <th>yr</th>\n",
              "      <th>mnth</th>\n",
              "      <th>holiday</th>\n",
              "      <th>weekday</th>\n",
              "      <th>workingday</th>\n",
              "      <th>weathersit</th>\n",
              "      <th>temp</th>\n",
              "      <th>atemp</th>\n",
              "      <th>hum</th>\n",
              "      <th>windspeed</th>\n",
              "      <th>casual</th>\n",
              "      <th>registered</th>\n",
              "      <th>cnt</th>\n",
              "      <th>wind_category</th>\n",
              "    </tr>\n",
              "  </thead>\n",
              "  <tbody>\n",
              "    <tr>\n",
              "      <th>count</th>\n",
              "      <td>731</td>\n",
              "      <td>731.0</td>\n",
              "      <td>731.0</td>\n",
              "      <td>731.0</td>\n",
              "      <td>731.0</td>\n",
              "      <td>731.0</td>\n",
              "      <td>731.0</td>\n",
              "      <td>731.0</td>\n",
              "      <td>731.000000</td>\n",
              "      <td>731.000000</td>\n",
              "      <td>731.000000</td>\n",
              "      <td>731.000000</td>\n",
              "      <td>731.000000</td>\n",
              "      <td>731.000000</td>\n",
              "      <td>731.000000</td>\n",
              "      <td>731</td>\n",
              "    </tr>\n",
              "    <tr>\n",
              "      <th>unique</th>\n",
              "      <td>NaN</td>\n",
              "      <td>4.0</td>\n",
              "      <td>2.0</td>\n",
              "      <td>12.0</td>\n",
              "      <td>2.0</td>\n",
              "      <td>7.0</td>\n",
              "      <td>2.0</td>\n",
              "      <td>3.0</td>\n",
              "      <td>NaN</td>\n",
              "      <td>NaN</td>\n",
              "      <td>NaN</td>\n",
              "      <td>NaN</td>\n",
              "      <td>NaN</td>\n",
              "      <td>NaN</td>\n",
              "      <td>NaN</td>\n",
              "      <td>4</td>\n",
              "    </tr>\n",
              "    <tr>\n",
              "      <th>top</th>\n",
              "      <td>NaN</td>\n",
              "      <td>3.0</td>\n",
              "      <td>1.0</td>\n",
              "      <td>1.0</td>\n",
              "      <td>0.0</td>\n",
              "      <td>0.0</td>\n",
              "      <td>1.0</td>\n",
              "      <td>1.0</td>\n",
              "      <td>NaN</td>\n",
              "      <td>NaN</td>\n",
              "      <td>NaN</td>\n",
              "      <td>NaN</td>\n",
              "      <td>NaN</td>\n",
              "      <td>NaN</td>\n",
              "      <td>NaN</td>\n",
              "      <td>Sedang</td>\n",
              "    </tr>\n",
              "    <tr>\n",
              "      <th>freq</th>\n",
              "      <td>NaN</td>\n",
              "      <td>188.0</td>\n",
              "      <td>366.0</td>\n",
              "      <td>62.0</td>\n",
              "      <td>710.0</td>\n",
              "      <td>105.0</td>\n",
              "      <td>500.0</td>\n",
              "      <td>463.0</td>\n",
              "      <td>NaN</td>\n",
              "      <td>NaN</td>\n",
              "      <td>NaN</td>\n",
              "      <td>NaN</td>\n",
              "      <td>NaN</td>\n",
              "      <td>NaN</td>\n",
              "      <td>NaN</td>\n",
              "      <td>363</td>\n",
              "    </tr>\n",
              "    <tr>\n",
              "      <th>mean</th>\n",
              "      <td>2012-01-01 00:00:00</td>\n",
              "      <td>NaN</td>\n",
              "      <td>NaN</td>\n",
              "      <td>NaN</td>\n",
              "      <td>NaN</td>\n",
              "      <td>NaN</td>\n",
              "      <td>NaN</td>\n",
              "      <td>NaN</td>\n",
              "      <td>0.495385</td>\n",
              "      <td>0.474354</td>\n",
              "      <td>0.627894</td>\n",
              "      <td>0.190486</td>\n",
              "      <td>848.176471</td>\n",
              "      <td>3656.172367</td>\n",
              "      <td>4504.348837</td>\n",
              "      <td>NaN</td>\n",
              "    </tr>\n",
              "    <tr>\n",
              "      <th>min</th>\n",
              "      <td>2011-01-01 00:00:00</td>\n",
              "      <td>NaN</td>\n",
              "      <td>NaN</td>\n",
              "      <td>NaN</td>\n",
              "      <td>NaN</td>\n",
              "      <td>NaN</td>\n",
              "      <td>NaN</td>\n",
              "      <td>NaN</td>\n",
              "      <td>0.059130</td>\n",
              "      <td>0.079070</td>\n",
              "      <td>0.000000</td>\n",
              "      <td>0.022392</td>\n",
              "      <td>2.000000</td>\n",
              "      <td>20.000000</td>\n",
              "      <td>22.000000</td>\n",
              "      <td>NaN</td>\n",
              "    </tr>\n",
              "    <tr>\n",
              "      <th>25%</th>\n",
              "      <td>2011-07-02 12:00:00</td>\n",
              "      <td>NaN</td>\n",
              "      <td>NaN</td>\n",
              "      <td>NaN</td>\n",
              "      <td>NaN</td>\n",
              "      <td>NaN</td>\n",
              "      <td>NaN</td>\n",
              "      <td>NaN</td>\n",
              "      <td>0.337083</td>\n",
              "      <td>0.337842</td>\n",
              "      <td>0.520000</td>\n",
              "      <td>0.134950</td>\n",
              "      <td>315.500000</td>\n",
              "      <td>2497.000000</td>\n",
              "      <td>3152.000000</td>\n",
              "      <td>NaN</td>\n",
              "    </tr>\n",
              "    <tr>\n",
              "      <th>50%</th>\n",
              "      <td>2012-01-01 00:00:00</td>\n",
              "      <td>NaN</td>\n",
              "      <td>NaN</td>\n",
              "      <td>NaN</td>\n",
              "      <td>NaN</td>\n",
              "      <td>NaN</td>\n",
              "      <td>NaN</td>\n",
              "      <td>NaN</td>\n",
              "      <td>0.498333</td>\n",
              "      <td>0.486733</td>\n",
              "      <td>0.626667</td>\n",
              "      <td>0.180975</td>\n",
              "      <td>713.000000</td>\n",
              "      <td>3662.000000</td>\n",
              "      <td>4548.000000</td>\n",
              "      <td>NaN</td>\n",
              "    </tr>\n",
              "    <tr>\n",
              "      <th>75%</th>\n",
              "      <td>2012-07-01 12:00:00</td>\n",
              "      <td>NaN</td>\n",
              "      <td>NaN</td>\n",
              "      <td>NaN</td>\n",
              "      <td>NaN</td>\n",
              "      <td>NaN</td>\n",
              "      <td>NaN</td>\n",
              "      <td>NaN</td>\n",
              "      <td>0.655417</td>\n",
              "      <td>0.608602</td>\n",
              "      <td>0.730209</td>\n",
              "      <td>0.233214</td>\n",
              "      <td>1096.000000</td>\n",
              "      <td>4776.500000</td>\n",
              "      <td>5956.000000</td>\n",
              "      <td>NaN</td>\n",
              "    </tr>\n",
              "    <tr>\n",
              "      <th>max</th>\n",
              "      <td>2012-12-31 00:00:00</td>\n",
              "      <td>NaN</td>\n",
              "      <td>NaN</td>\n",
              "      <td>NaN</td>\n",
              "      <td>NaN</td>\n",
              "      <td>NaN</td>\n",
              "      <td>NaN</td>\n",
              "      <td>NaN</td>\n",
              "      <td>0.861667</td>\n",
              "      <td>0.840896</td>\n",
              "      <td>0.972500</td>\n",
              "      <td>0.507463</td>\n",
              "      <td>3410.000000</td>\n",
              "      <td>6946.000000</td>\n",
              "      <td>8714.000000</td>\n",
              "      <td>NaN</td>\n",
              "    </tr>\n",
              "    <tr>\n",
              "      <th>std</th>\n",
              "      <td>NaN</td>\n",
              "      <td>NaN</td>\n",
              "      <td>NaN</td>\n",
              "      <td>NaN</td>\n",
              "      <td>NaN</td>\n",
              "      <td>NaN</td>\n",
              "      <td>NaN</td>\n",
              "      <td>NaN</td>\n",
              "      <td>0.183051</td>\n",
              "      <td>0.162961</td>\n",
              "      <td>0.142429</td>\n",
              "      <td>0.077498</td>\n",
              "      <td>686.622488</td>\n",
              "      <td>1560.256377</td>\n",
              "      <td>1937.211452</td>\n",
              "      <td>NaN</td>\n",
              "    </tr>\n",
              "  </tbody>\n",
              "</table>\n",
              "</div>\n",
              "    <div class=\"colab-df-buttons\">\n",
              "\n",
              "  <div class=\"colab-df-container\">\n",
              "    <button class=\"colab-df-convert\" onclick=\"convertToInteractive('df-21ab79a3-6ba6-42ce-a030-4f69d690ed8a')\"\n",
              "            title=\"Convert this dataframe to an interactive table.\"\n",
              "            style=\"display:none;\">\n",
              "\n",
              "  <svg xmlns=\"http://www.w3.org/2000/svg\" height=\"24px\" viewBox=\"0 -960 960 960\">\n",
              "    <path d=\"M120-120v-720h720v720H120Zm60-500h600v-160H180v160Zm220 220h160v-160H400v160Zm0 220h160v-160H400v160ZM180-400h160v-160H180v160Zm440 0h160v-160H620v160ZM180-180h160v-160H180v160Zm440 0h160v-160H620v160Z\"/>\n",
              "  </svg>\n",
              "    </button>\n",
              "\n",
              "  <style>\n",
              "    .colab-df-container {\n",
              "      display:flex;\n",
              "      gap: 12px;\n",
              "    }\n",
              "\n",
              "    .colab-df-convert {\n",
              "      background-color: #E8F0FE;\n",
              "      border: none;\n",
              "      border-radius: 50%;\n",
              "      cursor: pointer;\n",
              "      display: none;\n",
              "      fill: #1967D2;\n",
              "      height: 32px;\n",
              "      padding: 0 0 0 0;\n",
              "      width: 32px;\n",
              "    }\n",
              "\n",
              "    .colab-df-convert:hover {\n",
              "      background-color: #E2EBFA;\n",
              "      box-shadow: 0px 1px 2px rgba(60, 64, 67, 0.3), 0px 1px 3px 1px rgba(60, 64, 67, 0.15);\n",
              "      fill: #174EA6;\n",
              "    }\n",
              "\n",
              "    .colab-df-buttons div {\n",
              "      margin-bottom: 4px;\n",
              "    }\n",
              "\n",
              "    [theme=dark] .colab-df-convert {\n",
              "      background-color: #3B4455;\n",
              "      fill: #D2E3FC;\n",
              "    }\n",
              "\n",
              "    [theme=dark] .colab-df-convert:hover {\n",
              "      background-color: #434B5C;\n",
              "      box-shadow: 0px 1px 3px 1px rgba(0, 0, 0, 0.15);\n",
              "      filter: drop-shadow(0px 1px 2px rgba(0, 0, 0, 0.3));\n",
              "      fill: #FFFFFF;\n",
              "    }\n",
              "  </style>\n",
              "\n",
              "    <script>\n",
              "      const buttonEl =\n",
              "        document.querySelector('#df-21ab79a3-6ba6-42ce-a030-4f69d690ed8a button.colab-df-convert');\n",
              "      buttonEl.style.display =\n",
              "        google.colab.kernel.accessAllowed ? 'block' : 'none';\n",
              "\n",
              "      async function convertToInteractive(key) {\n",
              "        const element = document.querySelector('#df-21ab79a3-6ba6-42ce-a030-4f69d690ed8a');\n",
              "        const dataTable =\n",
              "          await google.colab.kernel.invokeFunction('convertToInteractive',\n",
              "                                                    [key], {});\n",
              "        if (!dataTable) return;\n",
              "\n",
              "        const docLinkHtml = 'Like what you see? Visit the ' +\n",
              "          '<a target=\"_blank\" href=https://colab.research.google.com/notebooks/data_table.ipynb>data table notebook</a>'\n",
              "          + ' to learn more about interactive tables.';\n",
              "        element.innerHTML = '';\n",
              "        dataTable['output_type'] = 'display_data';\n",
              "        await google.colab.output.renderOutput(dataTable, element);\n",
              "        const docLink = document.createElement('div');\n",
              "        docLink.innerHTML = docLinkHtml;\n",
              "        element.appendChild(docLink);\n",
              "      }\n",
              "    </script>\n",
              "  </div>\n",
              "\n",
              "\n",
              "<div id=\"df-96fb45d5-1752-4594-b203-f7df6aba6fa7\">\n",
              "  <button class=\"colab-df-quickchart\" onclick=\"quickchart('df-96fb45d5-1752-4594-b203-f7df6aba6fa7')\"\n",
              "            title=\"Suggest charts\"\n",
              "            style=\"display:none;\">\n",
              "\n",
              "<svg xmlns=\"http://www.w3.org/2000/svg\" height=\"24px\"viewBox=\"0 0 24 24\"\n",
              "     width=\"24px\">\n",
              "    <g>\n",
              "        <path d=\"M19 3H5c-1.1 0-2 .9-2 2v14c0 1.1.9 2 2 2h14c1.1 0 2-.9 2-2V5c0-1.1-.9-2-2-2zM9 17H7v-7h2v7zm4 0h-2V7h2v10zm4 0h-2v-4h2v4z\"/>\n",
              "    </g>\n",
              "</svg>\n",
              "  </button>\n",
              "\n",
              "<style>\n",
              "  .colab-df-quickchart {\n",
              "      --bg-color: #E8F0FE;\n",
              "      --fill-color: #1967D2;\n",
              "      --hover-bg-color: #E2EBFA;\n",
              "      --hover-fill-color: #174EA6;\n",
              "      --disabled-fill-color: #AAA;\n",
              "      --disabled-bg-color: #DDD;\n",
              "  }\n",
              "\n",
              "  [theme=dark] .colab-df-quickchart {\n",
              "      --bg-color: #3B4455;\n",
              "      --fill-color: #D2E3FC;\n",
              "      --hover-bg-color: #434B5C;\n",
              "      --hover-fill-color: #FFFFFF;\n",
              "      --disabled-bg-color: #3B4455;\n",
              "      --disabled-fill-color: #666;\n",
              "  }\n",
              "\n",
              "  .colab-df-quickchart {\n",
              "    background-color: var(--bg-color);\n",
              "    border: none;\n",
              "    border-radius: 50%;\n",
              "    cursor: pointer;\n",
              "    display: none;\n",
              "    fill: var(--fill-color);\n",
              "    height: 32px;\n",
              "    padding: 0;\n",
              "    width: 32px;\n",
              "  }\n",
              "\n",
              "  .colab-df-quickchart:hover {\n",
              "    background-color: var(--hover-bg-color);\n",
              "    box-shadow: 0 1px 2px rgba(60, 64, 67, 0.3), 0 1px 3px 1px rgba(60, 64, 67, 0.15);\n",
              "    fill: var(--button-hover-fill-color);\n",
              "  }\n",
              "\n",
              "  .colab-df-quickchart-complete:disabled,\n",
              "  .colab-df-quickchart-complete:disabled:hover {\n",
              "    background-color: var(--disabled-bg-color);\n",
              "    fill: var(--disabled-fill-color);\n",
              "    box-shadow: none;\n",
              "  }\n",
              "\n",
              "  .colab-df-spinner {\n",
              "    border: 2px solid var(--fill-color);\n",
              "    border-color: transparent;\n",
              "    border-bottom-color: var(--fill-color);\n",
              "    animation:\n",
              "      spin 1s steps(1) infinite;\n",
              "  }\n",
              "\n",
              "  @keyframes spin {\n",
              "    0% {\n",
              "      border-color: transparent;\n",
              "      border-bottom-color: var(--fill-color);\n",
              "      border-left-color: var(--fill-color);\n",
              "    }\n",
              "    20% {\n",
              "      border-color: transparent;\n",
              "      border-left-color: var(--fill-color);\n",
              "      border-top-color: var(--fill-color);\n",
              "    }\n",
              "    30% {\n",
              "      border-color: transparent;\n",
              "      border-left-color: var(--fill-color);\n",
              "      border-top-color: var(--fill-color);\n",
              "      border-right-color: var(--fill-color);\n",
              "    }\n",
              "    40% {\n",
              "      border-color: transparent;\n",
              "      border-right-color: var(--fill-color);\n",
              "      border-top-color: var(--fill-color);\n",
              "    }\n",
              "    60% {\n",
              "      border-color: transparent;\n",
              "      border-right-color: var(--fill-color);\n",
              "    }\n",
              "    80% {\n",
              "      border-color: transparent;\n",
              "      border-right-color: var(--fill-color);\n",
              "      border-bottom-color: var(--fill-color);\n",
              "    }\n",
              "    90% {\n",
              "      border-color: transparent;\n",
              "      border-bottom-color: var(--fill-color);\n",
              "    }\n",
              "  }\n",
              "</style>\n",
              "\n",
              "  <script>\n",
              "    async function quickchart(key) {\n",
              "      const quickchartButtonEl =\n",
              "        document.querySelector('#' + key + ' button');\n",
              "      quickchartButtonEl.disabled = true;  // To prevent multiple clicks.\n",
              "      quickchartButtonEl.classList.add('colab-df-spinner');\n",
              "      try {\n",
              "        const charts = await google.colab.kernel.invokeFunction(\n",
              "            'suggestCharts', [key], {});\n",
              "      } catch (error) {\n",
              "        console.error('Error during call to suggestCharts:', error);\n",
              "      }\n",
              "      quickchartButtonEl.classList.remove('colab-df-spinner');\n",
              "      quickchartButtonEl.classList.add('colab-df-quickchart-complete');\n",
              "    }\n",
              "    (() => {\n",
              "      let quickchartButtonEl =\n",
              "        document.querySelector('#df-96fb45d5-1752-4594-b203-f7df6aba6fa7 button');\n",
              "      quickchartButtonEl.style.display =\n",
              "        google.colab.kernel.accessAllowed ? 'block' : 'none';\n",
              "    })();\n",
              "  </script>\n",
              "</div>\n",
              "\n",
              "    </div>\n",
              "  </div>\n"
            ],
            "application/vnd.google.colaboratory.intrinsic+json": {
              "type": "dataframe",
              "summary": "{\n  \"name\": \"df_day\",\n  \"rows\": 11,\n  \"fields\": [\n    {\n      \"column\": \"dteday\",\n      \"properties\": {\n        \"dtype\": \"date\",\n        \"min\": \"1970-01-01 00:00:00.000000731\",\n        \"max\": \"2012-12-31 00:00:00\",\n        \"num_unique_values\": 6,\n        \"samples\": [\n          \"731\",\n          \"2012-01-01 00:00:00\",\n          \"2012-12-31 00:00:00\"\n        ],\n        \"semantic_type\": \"\",\n        \"description\": \"\"\n      }\n    },\n    {\n      \"column\": \"season\",\n      \"properties\": {\n        \"dtype\": \"number\",\n        \"std\": 344.1709846379655,\n        \"min\": 3.0,\n        \"max\": 731.0,\n        \"num_unique_values\": 4,\n        \"samples\": [\n          4.0,\n          188.0,\n          731.0\n        ],\n        \"semantic_type\": \"\",\n        \"description\": \"\"\n      }\n    },\n    {\n      \"column\": \"yr\",\n      \"properties\": {\n        \"dtype\": \"number\",\n        \"std\": 349.20003818251035,\n        \"min\": 1.0,\n        \"max\": 731.0,\n        \"num_unique_values\": 4,\n        \"samples\": [\n          2.0,\n          366.0,\n          731.0\n        ],\n        \"semantic_type\": \"\",\n        \"description\": \"\"\n      }\n    },\n    {\n      \"column\": \"mnth\",\n      \"properties\": {\n        \"dtype\": \"number\",\n        \"std\": 353.99670431610895,\n        \"min\": 1.0,\n        \"max\": 731.0,\n        \"num_unique_values\": 4,\n        \"samples\": [\n          12.0,\n          62.0,\n          731.0\n        ],\n        \"semantic_type\": \"\",\n        \"description\": \"\"\n      }\n    },\n    {\n      \"column\": \"holiday\",\n      \"properties\": {\n        \"dtype\": \"number\",\n        \"std\": 415.4927797206589,\n        \"min\": 0.0,\n        \"max\": 731.0,\n        \"num_unique_values\": 4,\n        \"samples\": [\n          2.0,\n          710.0,\n          731.0\n        ],\n        \"semantic_type\": \"\",\n        \"description\": \"\"\n      }\n    },\n    {\n      \"column\": \"weekday\",\n      \"properties\": {\n        \"dtype\": \"number\",\n        \"std\": 350.12985686265984,\n        \"min\": 0.0,\n        \"max\": 731.0,\n        \"num_unique_values\": 4,\n        \"samples\": [\n          7.0,\n          105.0,\n          731.0\n        ],\n        \"semantic_type\": \"\",\n        \"description\": \"\"\n      }\n    },\n    {\n      \"column\": \"workingday\",\n      \"properties\": {\n        \"dtype\": \"number\",\n        \"std\": 366.82284552628397,\n        \"min\": 1.0,\n        \"max\": 731.0,\n        \"num_unique_values\": 4,\n        \"samples\": [\n          2.0,\n          500.0,\n          731.0\n        ],\n        \"semantic_type\": \"\",\n        \"description\": \"\"\n      }\n    },\n    {\n      \"column\": \"weathersit\",\n      \"properties\": {\n        \"dtype\": \"number\",\n        \"std\": 360.52692918375277,\n        \"min\": 1.0,\n        \"max\": 731.0,\n        \"num_unique_values\": 4,\n        \"samples\": [\n          3.0,\n          463.0,\n          731.0\n        ],\n        \"semantic_type\": \"\",\n        \"description\": \"\"\n      }\n    },\n    {\n      \"column\": \"temp\",\n      \"properties\": {\n        \"dtype\": \"number\",\n        \"std\": 258.2915817037473,\n        \"min\": 0.0591304,\n        \"max\": 731.0,\n        \"num_unique_values\": 8,\n        \"samples\": [\n          0.495384788508892,\n          0.6554165000000001,\n          731.0\n        ],\n        \"semantic_type\": \"\",\n        \"description\": \"\"\n      }\n    },\n    {\n      \"column\": \"atemp\",\n      \"properties\": {\n        \"dtype\": \"number\",\n        \"std\": 258.2966006263005,\n        \"min\": 0.0790696,\n        \"max\": 731.0,\n        \"num_unique_values\": 8,\n        \"samples\": [\n          0.47435398864569084,\n          0.6086020000000001,\n          731.0\n        ],\n        \"semantic_type\": \"\",\n        \"description\": \"\"\n      }\n    },\n    {\n      \"column\": \"hum\",\n      \"properties\": {\n        \"dtype\": \"number\",\n        \"std\": 258.26489554668353,\n        \"min\": 0.0,\n        \"max\": 731.0,\n        \"num_unique_values\": 8,\n        \"samples\": [\n          0.6278940629274967,\n          0.7302085,\n          731.0\n        ],\n        \"semantic_type\": \"\",\n        \"description\": \"\"\n      }\n    },\n    {\n      \"column\": \"windspeed\",\n      \"properties\": {\n        \"dtype\": \"number\",\n        \"std\": 258.37953633824185,\n        \"min\": 0.0223917,\n        \"max\": 731.0,\n        \"num_unique_values\": 8,\n        \"samples\": [\n          0.190486211627907,\n          0.2332145,\n          731.0\n        ],\n        \"semantic_type\": \"\",\n        \"description\": \"\"\n      }\n    },\n    {\n      \"column\": \"casual\",\n      \"properties\": {\n        \"dtype\": \"number\",\n        \"std\": 1038.7465238878817,\n        \"min\": 2.0,\n        \"max\": 3410.0,\n        \"num_unique_values\": 8,\n        \"samples\": [\n          848.1764705882352,\n          1096.0,\n          731.0\n        ],\n        \"semantic_type\": \"\",\n        \"description\": \"\"\n      }\n    },\n    {\n      \"column\": \"registered\",\n      \"properties\": {\n        \"dtype\": \"number\",\n        \"std\": 2266.131168472822,\n        \"min\": 20.0,\n        \"max\": 6946.0,\n        \"num_unique_values\": 8,\n        \"samples\": [\n          3656.172366621067,\n          4776.5,\n          731.0\n        ],\n        \"semantic_type\": \"\",\n        \"description\": \"\"\n      }\n    },\n    {\n      \"column\": \"cnt\",\n      \"properties\": {\n        \"dtype\": \"number\",\n        \"std\": 2862.2176347716063,\n        \"min\": 22.0,\n        \"max\": 8714.0,\n        \"num_unique_values\": 8,\n        \"samples\": [\n          4504.3488372093025,\n          5956.0,\n          731.0\n        ],\n        \"semantic_type\": \"\",\n        \"description\": \"\"\n      }\n    },\n    {\n      \"column\": \"wind_category\",\n      \"properties\": {\n        \"dtype\": \"category\",\n        \"num_unique_values\": 4,\n        \"samples\": [\n          4,\n          \"363\",\n          \"731\"\n        ],\n        \"semantic_type\": \"\",\n        \"description\": \"\"\n      }\n    }\n  ]\n}"
            }
          },
          "metadata": {},
          "execution_count": 25
        }
      ]
    },
    {
      "cell_type": "markdown",
      "source": [
        "**Insight :**\n",
        "- Rata-rata jumlah sepeda yang disewa per hari adalah 4.504 (total casual + registered).\n",
        "- Jumlah minimum penyewaan hanya 22 sepeda dalam sehari, sedangkan jumlah maksimum mencapai 8.714 sepeda.\n",
        "- Standar deviasi (±1.937) menunjukkan ada variasi cukup besar dalam jumlah penyewaan harian."
      ],
      "metadata": {
        "id": "B52xoDghq2bj"
      }
    },
    {
      "cell_type": "markdown",
      "metadata": {
        "id": "MW7WF2kr8DC1"
      },
      "source": [
        "### Explore penyewaan berdasarkan hari dalam seminggu"
      ]
    },
    {
      "cell_type": "code",
      "source": [
        "weekday_rentals = df_day.groupby(\"weekday\")[\"cnt\"].mean().reset_index()\n",
        "weekday_rentals[\"weekday\"] = weekday_rentals[\"weekday\"].map({\n",
        "    0: \"Senin\", 1: \"Selasa\", 2: \"Rabu\", 3: \"Kamis\",\n",
        "    4: \"Jumat\", 5: \"Sabtu\", 6: \"Minggu\"\n",
        "})\n",
        "weekday_rentals = weekday_rentals.sort_values(\"weekday\")\n",
        "print(\"\\nRata-rata penyewaan sepeda per hari dalam seminggu:\")\n",
        "print(weekday_rentals)"
      ],
      "metadata": {
        "colab": {
          "base_uri": "https://localhost:8080/"
        },
        "id": "XE3CR9LInFIS",
        "outputId": "928ffad3-2afd-4d80-f253-dd2786cb328c"
      },
      "execution_count": null,
      "outputs": [
        {
          "output_type": "stream",
          "name": "stdout",
          "text": [
            "\n",
            "Rata-rata penyewaan sepeda per hari dalam seminggu:\n",
            "  weekday          cnt\n",
            "0   Senin  4228.828571\n",
            "1  Selasa  4338.123810\n",
            "2    Rabu  4510.663462\n",
            "3   Kamis  4548.538462\n",
            "4   Jumat  4667.259615\n",
            "5   Sabtu  4690.288462\n",
            "6  Minggu  4550.542857\n"
          ]
        },
        {
          "output_type": "stream",
          "name": "stderr",
          "text": [
            "<ipython-input-24-487ed025cbd6>:1: FutureWarning: The default of observed=False is deprecated and will be changed to True in a future version of pandas. Pass observed=False to retain current behavior or observed=True to adopt the future default and silence this warning.\n",
            "  weekday_rentals = df_day.groupby(\"weekday\")[\"cnt\"].mean().reset_index()\n"
          ]
        }
      ]
    },
    {
      "cell_type": "markdown",
      "source": [
        "**Insight :**\n",
        "- Sabtu memiliki rata-rata penyewaan tertinggi (4.690 sepeda/hari)\n",
        "- Senin memiliki penyewaan terendah (4.228 sepeda/hari)"
      ],
      "metadata": {
        "id": "_wOJ2_uXobly"
      }
    },
    {
      "cell_type": "markdown",
      "source": [
        "### Analisis penyewaan berdasarkan kecepatan angin"
      ],
      "metadata": {
        "id": "uHSOij9dnAaM"
      }
    },
    {
      "cell_type": "code",
      "execution_count": null,
      "metadata": {
        "id": "e9CQCZjk8DC2",
        "colab": {
          "base_uri": "https://localhost:8080/"
        },
        "outputId": "b5442a44-1818-4343-fa8c-cd5820896afe"
      },
      "outputs": [
        {
          "output_type": "stream",
          "name": "stdout",
          "text": [
            "\n",
            "Rata-rata penyewaan berdasarkan kecepatan angin:\n",
            "    wind_category          cnt\n",
            "0          Tenang  4840.356164\n",
            "1          Sedang  4828.333333\n",
            "2         Kencang  4239.558036\n",
            "3  Sangat Kencang  3337.845070\n"
          ]
        },
        {
          "output_type": "stream",
          "name": "stderr",
          "text": [
            "<ipython-input-26-0d56683f7f26>:2: FutureWarning: The default of observed=False is deprecated and will be changed to True in a future version of pandas. Pass observed=False to retain current behavior or observed=True to adopt the future default and silence this warning.\n",
            "  wind_rentals = df_day.groupby(\"wind_category\")[\"cnt\"].mean().reset_index()\n"
          ]
        }
      ],
      "source": [
        "df_day[\"wind_category\"] = pd.cut(df_day[\"windspeed\"], bins=[0, 0.1, 0.2, 0.3, 1], labels=[\"Tenang\", \"Sedang\", \"Kencang\", \"Sangat Kencang\"])\n",
        "wind_rentals = df_day.groupby(\"wind_category\")[\"cnt\"].mean().reset_index()\n",
        "print(\"\\nRata-rata penyewaan berdasarkan kecepatan angin:\")\n",
        "print(wind_rentals)"
      ]
    },
    {
      "cell_type": "markdown",
      "source": [
        "**Insight :**\n",
        "- Ketika angin tenang atau sedang, penyewaan sepeda lebih tinggi (4.840 & 4.828 sepeda/hari).\n",
        "Saat angin mulai kencang, penyewaan turun menjadi 4.239 sepeda/hari (-12%).\n",
        "Pada kondisi sangat kencang, penyewaan turun drastis menjadi 3.338 sepeda/hari (-31%)."
      ],
      "metadata": {
        "id": "YP0ekGoCofSx"
      }
    },
    {
      "cell_type": "markdown",
      "metadata": {
        "id": "zsyZjqak8DC2"
      },
      "source": [
        "## Visualization & Explanatory Analysis"
      ]
    },
    {
      "cell_type": "markdown",
      "metadata": {
        "id": "HZxOiQ6n8DC2"
      },
      "source": [
        "### Pertanyaan 1: Bagaimana pola penyewaan sepeda berdasarkan hari dalam seminggu?"
      ]
    },
    {
      "cell_type": "code",
      "execution_count": null,
      "metadata": {
        "id": "1swJUdAD8DC2",
        "colab": {
          "base_uri": "https://localhost:8080/",
          "height": 660
        },
        "outputId": "f7d048fd-157d-4e99-cd1d-fc05a7ceb35e"
      },
      "outputs": [
        {
          "output_type": "stream",
          "name": "stderr",
          "text": [
            "<ipython-input-34-c9d74509d904>:2: FutureWarning: The default of observed=False is deprecated and will be changed to True in a future version of pandas. Pass observed=False to retain current behavior or observed=True to adopt the future default and silence this warning.\n",
            "  weekday_rentals = df_day.groupby(\"weekday\")[\"cnt\"].mean().reset_index()\n",
            "<ipython-input-34-c9d74509d904>:6: FutureWarning: \n",
            "\n",
            "Passing `palette` without assigning `hue` is deprecated and will be removed in v0.14.0. Assign the `x` variable to `hue` and set `legend=False` for the same effect.\n",
            "\n",
            "  sns.barplot(x=\"weekday\", y=\"cnt\", data=weekday_rentals, palette=palette)\n"
          ]
        },
        {
          "output_type": "display_data",
          "data": {
            "text/plain": [
              "<Figure size 800x500 with 1 Axes>"
            ],
            "image/png": "[encoded data removed]"
          },
          "metadata": {}
        }
      ],
      "source": [
        "df_day[\"weekday\"] = df_day[\"weekday\"].cat.rename_categories([\"Senin\", \"Selasa\", \"Rabu\", \"Kamis\", \"Jumat\", \"Sabtu\", \"Minggu\"])\n",
        "weekday_rentals = df_day.groupby(\"weekday\")[\"cnt\"].mean().reset_index()\n",
        "plt.figure(figsize=(8,5))\n",
        "palette = [\"gray\"] * len(weekday_rentals)\n",
        "palette[weekday_rentals[\"cnt\"].idxmax()] = \"blue\"\n",
        "sns.barplot(x=\"weekday\", y=\"cnt\", data=weekday_rentals, palette=palette)\n",
        "plt.title(\"Rata-rata Penyewaan Sepeda per Hari dalam Seminggu\")\n",
        "plt.xlabel(\"Hari\")\n",
        "plt.ylabel(\"Jumlah Penyewaan\")\n",
        "plt.xticks(rotation=45)\n",
        "plt.show()"
      ]
    },
    {
      "cell_type": "markdown",
      "source": [
        "**Insight :**\n",
        "- Sabtu memiliki jumlah penyewaan tertinggi. Hal ini menunjukkan bahwa akhir pekan, khususnya Sabtu, adalah hari yang paling populer untuk penyewaan sepeda. Mungkin karena banyak orang memiliki waktu luang dan lebih cenderung beraktivitas di luar ruangan.\n",
        "\n",
        "- Hari kerja memiliki tren penyewaan yang relatif stabil. Penyewaan sepeda di hari kerja (Senin-Jumat) tidak memiliki perbedaan signifikan satu sama lain. Ini bisa mengindikasikan bahwa banyak orang menggunakan sepeda sebagai sarana transportasi rutin, seperti untuk bekerja atau sekolah.\n",
        "\n",
        "- Minggu tidak menjadi hari dengan penyewaan tertinggi. Meskipun masih termasuk akhir pekan, jumlah penyewaan di hari Minggu tampaknya sedikit lebih rendah dibandingkan Sabtu. Mungkin karena orang lebih memilih untuk beristirahat atau melakukan aktivitas lain selain bersepeda.\n",
        "\n"
      ],
      "metadata": {
        "id": "7G9Kb569uIjO"
      }
    },
    {
      "cell_type": "markdown",
      "source": [
        "### Pertanyaan 2: Kapan waktu puncak penyewaan sepeda dalam sehari?"
      ],
      "metadata": {
        "id": "t8-w2awPu5bW"
      }
    },
    {
      "cell_type": "code",
      "source": [
        "plt.figure(figsize=(8,5))\n",
        "palette = [\"gray\"] * 24\n",
        "hr_rentals = df_hour.groupby('hr')[\"cnt\"].mean()\n",
        "palette[hr_rentals.idxmax()] = \"blue\"\n",
        "sns.lineplot(x=hr_rentals.index, y=hr_rentals.values, marker='o', color=\"gray\")\n",
        "sns.scatterplot(x=[hr_rentals.idxmax()], y=[hr_rentals.max()], color=\"blue\", s=100, zorder=3)\n",
        "plt.title('Rata-rata Penyewaan Sepeda Berdasarkan Jam')\n",
        "plt.xlabel('Jam')\n",
        "plt.ylabel('Jumlah Penyewaan')\n",
        "plt.grid()\n",
        "plt.show()"
      ],
      "metadata": {
        "colab": {
          "base_uri": "https://localhost:8080/",
          "height": 542
        },
        "id": "PNGmwZ6HtBFo",
        "outputId": "207fcdb1-dd11-4648-9551-f9ef14ca138d"
      },
      "execution_count": null,
      "outputs": [
        {
          "output_type": "stream",
          "name": "stderr",
          "text": [
            "<ipython-input-37-5c65e8e105e5>:3: FutureWarning: The default of observed=False is deprecated and will be changed to True in a future version of pandas. Pass observed=False to retain current behavior or observed=True to adopt the future default and silence this warning.\n",
            "  hr_rentals = df_hour.groupby('hr')[\"cnt\"].mean()\n"
          ]
        },
        {
          "output_type": "display_data",
          "data": {
            "text/plain": [
              "<Figure size 800x500 with 1 Axes>"
            ],
            "image/png": "[encoded data removed]"
          },
          "metadata": {}
        }
      ]
    },
    {
      "cell_type": "markdown",
      "source": [
        "**Insight :**\n",
        "- Dua Puncak Penyewaan (Peak Hours) Terlihat Jelas. Puncak pertama terjadi pada pagi hari sekitar pukul 8 pagi, yang kemungkinan besar terkait dengan jam berangkat kerja atau sekolah.\n",
        "Puncak kedua terjadi pada sore hingga malam sekitar pukul 17-18 (ditandai dengan titik biru pada grafik). Ini kemungkinan berhubungan dengan jam pulang kerja atau aktivitas rekreasi setelah jam kerja/sekolah.\n",
        "- Dari pukul 0 hingga 5 pagi, jumlah penyewaan sangat rendah, menunjukkan bahwa sebagian besar orang tidak menggunakan sepeda pada jam tersebut."
      ],
      "metadata": {
        "id": "dWNlYjgGvowR"
      }
    },
    {
      "cell_type": "markdown",
      "source": [
        "### Pertanyaan 3 : Bagaimana pengaruh kecepatan angin terhadap penyewaan sepeda?"
      ],
      "metadata": {
        "id": "BYzc5X_cyYB6"
      }
    },
    {
      "cell_type": "code",
      "source": [
        "df_day[\"wind_category\"] = pd.cut(df_day[\"windspeed\"], bins=[0, 0.1, 0.2, 0.3, 1], labels=[\"Tenang\", \"Sedang\", \"Kencang\", \"Sangat Kencang\"])\n",
        "wind_rentals = df_day.groupby(\"wind_category\")[\"cnt\"].mean().reset_index()\n",
        "plt.figure(figsize=(8,5))\n",
        "palette = [\"gray\"] * len(wind_rentals)\n",
        "palette[wind_rentals[\"cnt\"].idxmax()] = \"blue\"\n",
        "sns.barplot(x=\"wind_category\", y=\"cnt\", data=wind_rentals, palette=palette)\n",
        "plt.title(\"Rata-rata Penyewaan Berdasarkan Kecepatan Angin\")\n",
        "plt.xlabel(\"Kategori Kecepatan Angin\")\n",
        "plt.ylabel(\"Jumlah Penyewaan\")\n",
        "plt.show()"
      ],
      "metadata": {
        "colab": {
          "base_uri": "https://localhost:8080/",
          "height": 628
        },
        "id": "vxzILGYKs95h",
        "outputId": "100e48e4-bd5e-42ed-98da-68639fb9e0d9"
      },
      "execution_count": null,
      "outputs": [
        {
          "output_type": "stream",
          "name": "stderr",
          "text": [
            "<ipython-input-40-559b7074fbe5>:2: FutureWarning: The default of observed=False is deprecated and will be changed to True in a future version of pandas. Pass observed=False to retain current behavior or observed=True to adopt the future default and silence this warning.\n",
            "  wind_rentals = df_day.groupby(\"wind_category\")[\"cnt\"].mean().reset_index()\n",
            "<ipython-input-40-559b7074fbe5>:6: FutureWarning: \n",
            "\n",
            "Passing `palette` without assigning `hue` is deprecated and will be removed in v0.14.0. Assign the `x` variable to `hue` and set `legend=False` for the same effect.\n",
            "\n",
            "  sns.barplot(x=\"wind_category\", y=\"cnt\", data=wind_rentals, palette=palette)\n"
          ]
        },
        {
          "output_type": "display_data",
          "data": {
            "text/plain": [
              "<Figure size 800x500 with 1 Axes>"
            ],
            "image/png": "[encoded data removed]"
          },
          "metadata": {}
        }
      ]
    },
    {
      "cell_type": "markdown",
      "source": [
        "**Insight :**\n",
        "- Jumlah penyewaan tertinggi terjadi saat angin dalam kondisi \"Tenang\" (ditandai dengan warna biru). Seiring meningkatnya kecepatan angin, jumlah penyewaan mengalami penurunan bertahap.\n",
        "- Saat kecepatan angin mencapai kategori \"Sangat Kencang\", jumlah penyewaan sepeda turun drastis, yang menunjukkan bahwa angin kencang menjadi hambatan besar bagi pengguna sepeda."
      ],
      "metadata": {
        "id": "aOsbYEd2wSW4"
      }
    },
    {
      "cell_type": "markdown",
      "source": [
        "### Pertanyaan 4: Bagaimana tren penyewaan sepeda berdasarkan musim?"
      ],
      "metadata": {
        "id": "xAT5hxwsyf_8"
      }
    },
    {
      "cell_type": "code",
      "source": [
        "df_day[\"season\"] = df_day[\"season\"].cat.rename_categories([\"Semi\", \"Panas\", \"Gugur\", \"Dingin\"])\n",
        "season_rentals = df_day.groupby(\"season\")[\"cnt\"].mean().reset_index()\n",
        "plt.figure(figsize=(8,5))\n",
        "palette = [\"gray\"] * len(season_rentals)\n",
        "palette[season_rentals[\"cnt\"].idxmax()] = \"blue\"\n",
        "sns.barplot(x=\"season\", y=\"cnt\", data=season_rentals, palette=palette)\n",
        "plt.title(\"Rata-rata Penyewaan Sepeda Berdasarkan Musim\")\n",
        "plt.xlabel(\"Musim\")\n",
        "plt.ylabel(\"Jumlah Penyewaan\")\n",
        "plt.show()"
      ],
      "metadata": {
        "colab": {
          "base_uri": "https://localhost:8080/",
          "height": 628
        },
        "id": "RnXW6_aJtETY",
        "outputId": "c1ac0f92-5f8a-46c4-a716-e7eac94250b4"
      },
      "execution_count": null,
      "outputs": [
        {
          "output_type": "stream",
          "name": "stderr",
          "text": [
            "<ipython-input-41-b886adec9d9f>:2: FutureWarning: The default of observed=False is deprecated and will be changed to True in a future version of pandas. Pass observed=False to retain current behavior or observed=True to adopt the future default and silence this warning.\n",
            "  season_rentals = df_day.groupby(\"season\")[\"cnt\"].mean().reset_index()\n",
            "<ipython-input-41-b886adec9d9f>:6: FutureWarning: \n",
            "\n",
            "Passing `palette` without assigning `hue` is deprecated and will be removed in v0.14.0. Assign the `x` variable to `hue` and set `legend=False` for the same effect.\n",
            "\n",
            "  sns.barplot(x=\"season\", y=\"cnt\", data=season_rentals, palette=palette)\n"
          ]
        },
        {
          "output_type": "display_data",
          "data": {
            "text/plain": [
              "<Figure size 800x500 with 1 Axes>"
            ],
            "image/png": "[encoded data removed]"
          },
          "metadata": {}
        }
      ]
    },
    {
      "cell_type": "markdown",
      "source": [
        "**Insight :**\n",
        "- Musim gugur memiliki rata-rata penyewaan sepeda tertinggi, yang ditandai dengan batang berwarna biru. Ini menunjukkan bahwa musim gugur adalah waktu yang paling populer bagi orang-orang untuk menyewa sepeda.\n",
        "- Musim semi memiliki jumlah penyewaan terendah, mungkin karena cuaca masih tidak menentu atau karena lebih banyak hujan.\n",
        "Musim dingin memiliki lebih banyak penyewaan dibandingkan musim semi, tetapi masih lebih rendah dibandingkan musim panas dan gugur."
      ],
      "metadata": {
        "id": "SDyn8uyNx00n"
      }
    },
    {
      "cell_type": "markdown",
      "source": [
        "## Analisis Lanjutan (Opsional)"
      ],
      "metadata": {
        "id": "9y4VUsmcYNZ5"
      }
    },
    {
      "cell_type": "markdown",
      "source": [
        "Untuk analisis lanjutan, saya menerapkan teknik clustering dengan mengkategorikan jumlah penyewaan sepeda per hari dengan kategori tertentu"
      ],
      "metadata": {
        "id": "lHOudUDV0Py4"
      }
    },
    {
      "cell_type": "markdown",
      "source": [
        "### Pertanyaan 5 : Bagaimana distribusi penyewaan sepeda di berbagai kategori (sangat rendah, rendah, sedang, tinggi, sangat tinggi)?"
      ],
      "metadata": {
        "id": "jleZBtv709pP"
      }
    },
    {
      "cell_type": "code",
      "source": [
        "# Konversi kolom tanggal ke format datetime\n",
        "df_day['dteday'] = pd.to_datetime(df_day['dteday'])\n",
        "\n",
        "# Clustering menggunakan Binning\n",
        "# Membuat kategori berdasarkan jumlah penyewaan sepeda per hari\n",
        "bins = [0, 2000, 4000, 6000, 8000, 10000]\n",
        "labels = ['Sangat Rendah', 'Rendah', 'Sedang', 'Tinggi', 'Sangat Tinggi']\n",
        "df_day['Rental_Category'] = pd.cut(df_day['cnt'], bins=bins, labels=labels)\n",
        "\n",
        "# Menghitung jumlah total tanggal yang masuk dalam setiap kategori\n",
        "category_counts = df_day['Rental_Category'].value_counts()\n",
        "print(\"Jumlah total tanggal per kategori penyewaan:\")\n",
        "print(category_counts)"
      ],
      "metadata": {
        "id": "iWhnzsJGYUCO",
        "colab": {
          "base_uri": "https://localhost:8080/"
        },
        "outputId": "4f67bab5-7578-4e29-8e8a-afd3ac1ac3ca"
      },
      "execution_count": null,
      "outputs": [
        {
          "output_type": "stream",
          "name": "stdout",
          "text": [
            "Jumlah total tanggal per kategori penyewaan:\n",
            "Rental_Category\n",
            "Sedang           272\n",
            "Rendah           181\n",
            "Tinggi           168\n",
            "Sangat Rendah     98\n",
            "Sangat Tinggi     12\n",
            "Name: count, dtype: int64\n"
          ]
        }
      ]
    },
    {
      "cell_type": "markdown",
      "source": [
        "**Insight :**\n",
        "- Sebanyak 272 hari (sekitar 45% dari total hari) masuk dalam kategori Sedang, menunjukkan bahwa pola penyewaan sepeda relatif stabil di level menengah.\n",
        "Ini menandakan bahwa sebagian besar waktu, jumlah penyewaan berada di sekitar rata-rata, tanpa fluktuasi ekstrem.\n",
        "\n",
        "- Sebanyak 98 hari berada dalam kategori Sangat Rendah, yang bisa disebabkan oleh kondisi cuaca buruk, musim dingin, atau faktor lain yang mengurangi minat bersepeda.\n",
        "Sementara itu, hanya 12 hari masuk dalam kategori Sangat Tinggi, menandakan bahwa lonjakan ekstrem dalam penyewaan sangat jarang terjadi.\n",
        "Ini bisa mengindikasikan bahwa faktor khusus seperti event besar, promosi, atau liburan sangat memengaruhi kenaikan drastis dalam penyewaan."
      ],
      "metadata": {
        "id": "9QLGLlBI0nJb"
      }
    },
    {
      "cell_type": "markdown",
      "metadata": {
        "id": "_WeHlCeX8DC2"
      },
      "source": [
        "## Conclusion"
      ]
    },
    {
      "cell_type": "markdown",
      "metadata": {
        "id": "ZTcyR48Y8DC2"
      },
      "source": [
        "- **Conclution pertanyaan 1** => Sabtu menjadi hari paling populer untuk penyewaan sepeda, menunjukkan bahwa banyak orang lebih memilih bersepeda di akhir pekan untuk rekreasi atau aktivitas santai. Hal ini bisa dimanfaatkan dengan strategi promosi khusus di akhir pekan\n",
        "- **Conclution pertanyaan 2** => Pola penyewaan sepeda menunjukkan dua puncak utama, yaitu sekitar pukul 8 pagi dan 17-18 sore, yang kemungkinan besar terkait dengan jam berangkat dan pulang kerja atau sekolah. Hal ini mengindikasikan bahwa sepeda banyak digunakan sebagai moda transportasi harian. Sementara itu, penyewaan sangat rendah terjadi pada pukul 0 hingga 5 pagi, menunjukkan bahwa sepeda jarang digunakan pada jam-jam tersebut. Pola ini dapat dimanfaatkan untuk mengoptimalkan ketersediaan sepeda pada jam sibuk serta mengembangkan strategi promosi untuk meningkatkan penggunaan di luar jam puncak.\n",
        "- **Conclution pertanyaan 3** => Pengguna kemungkinan merasa lebih nyaman dan aman bersepeda dalam kondisi angin tenang atau sedang. Saat angin kencang, bersepeda bisa menjadi lebih sulit, tidak nyaman, atau bahkan berbahaya, terutama bagi pengendara yang tidak berpengalaman.\n",
        "- **Conclution pertanyaan 4** => Penyewaan sepeda lebih populer di musim gugur dan panas, sementara lebih rendah di musim semi dan dingin.\n",
        "- **Conclution pertanyaan 5** => Sebagian besar hari memiliki penyewaan di tingkat sedang, dengan jumlah hari penyewaan rendah dan tinggi yang cukup seimbang. Penyewaan ekstrem (sangat tinggi atau sangat rendah) jarang terjadi, menunjukkan bahwa ada faktor spesifik yang menyebabkan lonjakan atau penurunan drastis."
      ]
    }
  ],
  "metadata": {
    "kernelspec": {
      "display_name": "Python 3",
      "language": "python",
      "name": "python3"
    },
    "language_info": {
      "name": "python",
      "version": "3.8.0 (tags/v3.8.0:fa919fd, Oct 14 2019, 19:21:23) [MSC v.1916 32 bit (Intel)]"
    },
    "orig_nbformat": 4,
    "vscode": {
      "interpreter": {
        "hash": "972b3bf27e332e87b5379f2791f6ef9dfc79c71018c370b0d7423235e20fe4d7"
      }
    },
    "colab": {
      "provenance": []
    }
  },
  "nbformat": 4,
  "nbformat_minor": 0
}